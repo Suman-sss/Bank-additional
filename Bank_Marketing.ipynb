{
  "nbformat": 4,
  "nbformat_minor": 0,
  "metadata": {
    "colab": {
      "name": "Bank - Marketing",
      "provenance": [],
      "collapsed_sections": []
    },
    "kernelspec": {
      "name": "python3",
      "display_name": "Python 3"
    },
    "accelerator": "GPU"
  },
  "cells": [
    {
      "cell_type": "code",
      "metadata": {
        "id": "OyXbowmon8UV",
        "colab_type": "code",
        "colab": {
          "base_uri": "https://localhost:8080/",
          "height": 70
        },
        "outputId": "f5d56a1f-79df-42ff-9c32-df6af8647381"
      },
      "source": [
        "import pandas as pd\n",
        "import numpy as np\n",
        "import matplotlib.pyplot as plt\n",
        "import seaborn as sns\n",
        "from sklearn.preprocessing import LabelEncoder"
      ],
      "execution_count": 2,
      "outputs": [
        {
          "output_type": "stream",
          "text": [
            "/usr/local/lib/python3.6/dist-packages/statsmodels/tools/_testing.py:19: FutureWarning: pandas.util.testing is deprecated. Use the functions in the public API at pandas.testing instead.\n",
            "  import pandas.util.testing as tm\n"
          ],
          "name": "stderr"
        }
      ]
    },
    {
      "cell_type": "code",
      "metadata": {
        "id": "gak1P0gcpaqz",
        "colab_type": "code",
        "colab": {
          "base_uri": "https://localhost:8080/",
          "height": 422
        },
        "outputId": "3494484c-7986-4dce-ebb2-a565862f544f"
      },
      "source": [
        "data = pd.read_csv('/content/drive/My Drive/Colab Notebooks/bank-additional-full.csv', sep=';')\n",
        "data"
      ],
      "execution_count": 3,
      "outputs": [
        {
          "output_type": "execute_result",
          "data": {
            "text/html": [
              "<div>\n",
              "<style scoped>\n",
              "    .dataframe tbody tr th:only-of-type {\n",
              "        vertical-align: middle;\n",
              "    }\n",
              "\n",
              "    .dataframe tbody tr th {\n",
              "        vertical-align: top;\n",
              "    }\n",
              "\n",
              "    .dataframe thead th {\n",
              "        text-align: right;\n",
              "    }\n",
              "</style>\n",
              "<table border=\"1\" class=\"dataframe\">\n",
              "  <thead>\n",
              "    <tr style=\"text-align: right;\">\n",
              "      <th></th>\n",
              "      <th>age</th>\n",
              "      <th>job</th>\n",
              "      <th>marital</th>\n",
              "      <th>education</th>\n",
              "      <th>default</th>\n",
              "      <th>housing</th>\n",
              "      <th>loan</th>\n",
              "      <th>contact</th>\n",
              "      <th>month</th>\n",
              "      <th>day_of_week</th>\n",
              "      <th>duration</th>\n",
              "      <th>campaign</th>\n",
              "      <th>pdays</th>\n",
              "      <th>previous</th>\n",
              "      <th>poutcome</th>\n",
              "      <th>emp.var.rate</th>\n",
              "      <th>cons.price.idx</th>\n",
              "      <th>cons.conf.idx</th>\n",
              "      <th>euribor3m</th>\n",
              "      <th>nr.employed</th>\n",
              "      <th>y</th>\n",
              "    </tr>\n",
              "  </thead>\n",
              "  <tbody>\n",
              "    <tr>\n",
              "      <th>0</th>\n",
              "      <td>56</td>\n",
              "      <td>housemaid</td>\n",
              "      <td>married</td>\n",
              "      <td>basic.4y</td>\n",
              "      <td>no</td>\n",
              "      <td>no</td>\n",
              "      <td>no</td>\n",
              "      <td>telephone</td>\n",
              "      <td>may</td>\n",
              "      <td>mon</td>\n",
              "      <td>261</td>\n",
              "      <td>1</td>\n",
              "      <td>999</td>\n",
              "      <td>0</td>\n",
              "      <td>nonexistent</td>\n",
              "      <td>1.1</td>\n",
              "      <td>93.994</td>\n",
              "      <td>-36.4</td>\n",
              "      <td>4.857</td>\n",
              "      <td>5191.0</td>\n",
              "      <td>no</td>\n",
              "    </tr>\n",
              "    <tr>\n",
              "      <th>1</th>\n",
              "      <td>57</td>\n",
              "      <td>services</td>\n",
              "      <td>married</td>\n",
              "      <td>high.school</td>\n",
              "      <td>unknown</td>\n",
              "      <td>no</td>\n",
              "      <td>no</td>\n",
              "      <td>telephone</td>\n",
              "      <td>may</td>\n",
              "      <td>mon</td>\n",
              "      <td>149</td>\n",
              "      <td>1</td>\n",
              "      <td>999</td>\n",
              "      <td>0</td>\n",
              "      <td>nonexistent</td>\n",
              "      <td>1.1</td>\n",
              "      <td>93.994</td>\n",
              "      <td>-36.4</td>\n",
              "      <td>4.857</td>\n",
              "      <td>5191.0</td>\n",
              "      <td>no</td>\n",
              "    </tr>\n",
              "    <tr>\n",
              "      <th>2</th>\n",
              "      <td>37</td>\n",
              "      <td>services</td>\n",
              "      <td>married</td>\n",
              "      <td>high.school</td>\n",
              "      <td>no</td>\n",
              "      <td>yes</td>\n",
              "      <td>no</td>\n",
              "      <td>telephone</td>\n",
              "      <td>may</td>\n",
              "      <td>mon</td>\n",
              "      <td>226</td>\n",
              "      <td>1</td>\n",
              "      <td>999</td>\n",
              "      <td>0</td>\n",
              "      <td>nonexistent</td>\n",
              "      <td>1.1</td>\n",
              "      <td>93.994</td>\n",
              "      <td>-36.4</td>\n",
              "      <td>4.857</td>\n",
              "      <td>5191.0</td>\n",
              "      <td>no</td>\n",
              "    </tr>\n",
              "    <tr>\n",
              "      <th>3</th>\n",
              "      <td>40</td>\n",
              "      <td>admin.</td>\n",
              "      <td>married</td>\n",
              "      <td>basic.6y</td>\n",
              "      <td>no</td>\n",
              "      <td>no</td>\n",
              "      <td>no</td>\n",
              "      <td>telephone</td>\n",
              "      <td>may</td>\n",
              "      <td>mon</td>\n",
              "      <td>151</td>\n",
              "      <td>1</td>\n",
              "      <td>999</td>\n",
              "      <td>0</td>\n",
              "      <td>nonexistent</td>\n",
              "      <td>1.1</td>\n",
              "      <td>93.994</td>\n",
              "      <td>-36.4</td>\n",
              "      <td>4.857</td>\n",
              "      <td>5191.0</td>\n",
              "      <td>no</td>\n",
              "    </tr>\n",
              "    <tr>\n",
              "      <th>4</th>\n",
              "      <td>56</td>\n",
              "      <td>services</td>\n",
              "      <td>married</td>\n",
              "      <td>high.school</td>\n",
              "      <td>no</td>\n",
              "      <td>no</td>\n",
              "      <td>yes</td>\n",
              "      <td>telephone</td>\n",
              "      <td>may</td>\n",
              "      <td>mon</td>\n",
              "      <td>307</td>\n",
              "      <td>1</td>\n",
              "      <td>999</td>\n",
              "      <td>0</td>\n",
              "      <td>nonexistent</td>\n",
              "      <td>1.1</td>\n",
              "      <td>93.994</td>\n",
              "      <td>-36.4</td>\n",
              "      <td>4.857</td>\n",
              "      <td>5191.0</td>\n",
              "      <td>no</td>\n",
              "    </tr>\n",
              "    <tr>\n",
              "      <th>...</th>\n",
              "      <td>...</td>\n",
              "      <td>...</td>\n",
              "      <td>...</td>\n",
              "      <td>...</td>\n",
              "      <td>...</td>\n",
              "      <td>...</td>\n",
              "      <td>...</td>\n",
              "      <td>...</td>\n",
              "      <td>...</td>\n",
              "      <td>...</td>\n",
              "      <td>...</td>\n",
              "      <td>...</td>\n",
              "      <td>...</td>\n",
              "      <td>...</td>\n",
              "      <td>...</td>\n",
              "      <td>...</td>\n",
              "      <td>...</td>\n",
              "      <td>...</td>\n",
              "      <td>...</td>\n",
              "      <td>...</td>\n",
              "      <td>...</td>\n",
              "    </tr>\n",
              "    <tr>\n",
              "      <th>41183</th>\n",
              "      <td>73</td>\n",
              "      <td>retired</td>\n",
              "      <td>married</td>\n",
              "      <td>professional.course</td>\n",
              "      <td>no</td>\n",
              "      <td>yes</td>\n",
              "      <td>no</td>\n",
              "      <td>cellular</td>\n",
              "      <td>nov</td>\n",
              "      <td>fri</td>\n",
              "      <td>334</td>\n",
              "      <td>1</td>\n",
              "      <td>999</td>\n",
              "      <td>0</td>\n",
              "      <td>nonexistent</td>\n",
              "      <td>-1.1</td>\n",
              "      <td>94.767</td>\n",
              "      <td>-50.8</td>\n",
              "      <td>1.028</td>\n",
              "      <td>4963.6</td>\n",
              "      <td>yes</td>\n",
              "    </tr>\n",
              "    <tr>\n",
              "      <th>41184</th>\n",
              "      <td>46</td>\n",
              "      <td>blue-collar</td>\n",
              "      <td>married</td>\n",
              "      <td>professional.course</td>\n",
              "      <td>no</td>\n",
              "      <td>no</td>\n",
              "      <td>no</td>\n",
              "      <td>cellular</td>\n",
              "      <td>nov</td>\n",
              "      <td>fri</td>\n",
              "      <td>383</td>\n",
              "      <td>1</td>\n",
              "      <td>999</td>\n",
              "      <td>0</td>\n",
              "      <td>nonexistent</td>\n",
              "      <td>-1.1</td>\n",
              "      <td>94.767</td>\n",
              "      <td>-50.8</td>\n",
              "      <td>1.028</td>\n",
              "      <td>4963.6</td>\n",
              "      <td>no</td>\n",
              "    </tr>\n",
              "    <tr>\n",
              "      <th>41185</th>\n",
              "      <td>56</td>\n",
              "      <td>retired</td>\n",
              "      <td>married</td>\n",
              "      <td>university.degree</td>\n",
              "      <td>no</td>\n",
              "      <td>yes</td>\n",
              "      <td>no</td>\n",
              "      <td>cellular</td>\n",
              "      <td>nov</td>\n",
              "      <td>fri</td>\n",
              "      <td>189</td>\n",
              "      <td>2</td>\n",
              "      <td>999</td>\n",
              "      <td>0</td>\n",
              "      <td>nonexistent</td>\n",
              "      <td>-1.1</td>\n",
              "      <td>94.767</td>\n",
              "      <td>-50.8</td>\n",
              "      <td>1.028</td>\n",
              "      <td>4963.6</td>\n",
              "      <td>no</td>\n",
              "    </tr>\n",
              "    <tr>\n",
              "      <th>41186</th>\n",
              "      <td>44</td>\n",
              "      <td>technician</td>\n",
              "      <td>married</td>\n",
              "      <td>professional.course</td>\n",
              "      <td>no</td>\n",
              "      <td>no</td>\n",
              "      <td>no</td>\n",
              "      <td>cellular</td>\n",
              "      <td>nov</td>\n",
              "      <td>fri</td>\n",
              "      <td>442</td>\n",
              "      <td>1</td>\n",
              "      <td>999</td>\n",
              "      <td>0</td>\n",
              "      <td>nonexistent</td>\n",
              "      <td>-1.1</td>\n",
              "      <td>94.767</td>\n",
              "      <td>-50.8</td>\n",
              "      <td>1.028</td>\n",
              "      <td>4963.6</td>\n",
              "      <td>yes</td>\n",
              "    </tr>\n",
              "    <tr>\n",
              "      <th>41187</th>\n",
              "      <td>74</td>\n",
              "      <td>retired</td>\n",
              "      <td>married</td>\n",
              "      <td>professional.course</td>\n",
              "      <td>no</td>\n",
              "      <td>yes</td>\n",
              "      <td>no</td>\n",
              "      <td>cellular</td>\n",
              "      <td>nov</td>\n",
              "      <td>fri</td>\n",
              "      <td>239</td>\n",
              "      <td>3</td>\n",
              "      <td>999</td>\n",
              "      <td>1</td>\n",
              "      <td>failure</td>\n",
              "      <td>-1.1</td>\n",
              "      <td>94.767</td>\n",
              "      <td>-50.8</td>\n",
              "      <td>1.028</td>\n",
              "      <td>4963.6</td>\n",
              "      <td>no</td>\n",
              "    </tr>\n",
              "  </tbody>\n",
              "</table>\n",
              "<p>41188 rows × 21 columns</p>\n",
              "</div>"
            ],
            "text/plain": [
              "       age          job  marital  ... euribor3m nr.employed    y\n",
              "0       56    housemaid  married  ...     4.857      5191.0   no\n",
              "1       57     services  married  ...     4.857      5191.0   no\n",
              "2       37     services  married  ...     4.857      5191.0   no\n",
              "3       40       admin.  married  ...     4.857      5191.0   no\n",
              "4       56     services  married  ...     4.857      5191.0   no\n",
              "...    ...          ...      ...  ...       ...         ...  ...\n",
              "41183   73      retired  married  ...     1.028      4963.6  yes\n",
              "41184   46  blue-collar  married  ...     1.028      4963.6   no\n",
              "41185   56      retired  married  ...     1.028      4963.6   no\n",
              "41186   44   technician  married  ...     1.028      4963.6  yes\n",
              "41187   74      retired  married  ...     1.028      4963.6   no\n",
              "\n",
              "[41188 rows x 21 columns]"
            ]
          },
          "metadata": {
            "tags": []
          },
          "execution_count": 3
        }
      ]
    },
    {
      "cell_type": "code",
      "metadata": {
        "id": "wL5VLWsEp7F-",
        "colab_type": "code",
        "colab": {
          "base_uri": "https://localhost:8080/",
          "height": 487
        },
        "outputId": "b744eb16-16ff-49be-f3a6-6c9a1dcb6cf2"
      },
      "source": [
        "data.info()"
      ],
      "execution_count": 4,
      "outputs": [
        {
          "output_type": "stream",
          "text": [
            "<class 'pandas.core.frame.DataFrame'>\n",
            "RangeIndex: 41188 entries, 0 to 41187\n",
            "Data columns (total 21 columns):\n",
            " #   Column          Non-Null Count  Dtype  \n",
            "---  ------          --------------  -----  \n",
            " 0   age             41188 non-null  int64  \n",
            " 1   job             41188 non-null  object \n",
            " 2   marital         41188 non-null  object \n",
            " 3   education       41188 non-null  object \n",
            " 4   default         41188 non-null  object \n",
            " 5   housing         41188 non-null  object \n",
            " 6   loan            41188 non-null  object \n",
            " 7   contact         41188 non-null  object \n",
            " 8   month           41188 non-null  object \n",
            " 9   day_of_week     41188 non-null  object \n",
            " 10  duration        41188 non-null  int64  \n",
            " 11  campaign        41188 non-null  int64  \n",
            " 12  pdays           41188 non-null  int64  \n",
            " 13  previous        41188 non-null  int64  \n",
            " 14  poutcome        41188 non-null  object \n",
            " 15  emp.var.rate    41188 non-null  float64\n",
            " 16  cons.price.idx  41188 non-null  float64\n",
            " 17  cons.conf.idx   41188 non-null  float64\n",
            " 18  euribor3m       41188 non-null  float64\n",
            " 19  nr.employed     41188 non-null  float64\n",
            " 20  y               41188 non-null  object \n",
            "dtypes: float64(5), int64(5), object(11)\n",
            "memory usage: 6.6+ MB\n"
          ],
          "name": "stdout"
        }
      ]
    },
    {
      "cell_type": "code",
      "metadata": {
        "id": "2RRnYQIlqYBu",
        "colab_type": "code",
        "colab": {
          "base_uri": "https://localhost:8080/",
          "height": 386
        },
        "outputId": "4a9f9dfd-0205-48fc-8f84-5f5f604c1ce5"
      },
      "source": [
        "# check the null values\n",
        "data.isnull().any()"
      ],
      "execution_count": 5,
      "outputs": [
        {
          "output_type": "execute_result",
          "data": {
            "text/plain": [
              "age               False\n",
              "job               False\n",
              "marital           False\n",
              "education         False\n",
              "default           False\n",
              "housing           False\n",
              "loan              False\n",
              "contact           False\n",
              "month             False\n",
              "day_of_week       False\n",
              "duration          False\n",
              "campaign          False\n",
              "pdays             False\n",
              "previous          False\n",
              "poutcome          False\n",
              "emp.var.rate      False\n",
              "cons.price.idx    False\n",
              "cons.conf.idx     False\n",
              "euribor3m         False\n",
              "nr.employed       False\n",
              "y                 False\n",
              "dtype: bool"
            ]
          },
          "metadata": {
            "tags": []
          },
          "execution_count": 5
        }
      ]
    },
    {
      "cell_type": "code",
      "metadata": {
        "id": "1qMu4x-wqoEB",
        "colab_type": "code",
        "colab": {
          "base_uri": "https://localhost:8080/",
          "height": 101
        },
        "outputId": "cdff2031-65a9-4f66-8288-e9bcdc309732"
      },
      "source": [
        "data.columns"
      ],
      "execution_count": 6,
      "outputs": [
        {
          "output_type": "execute_result",
          "data": {
            "text/plain": [
              "Index(['age', 'job', 'marital', 'education', 'default', 'housing', 'loan',\n",
              "       'contact', 'month', 'day_of_week', 'duration', 'campaign', 'pdays',\n",
              "       'previous', 'poutcome', 'emp.var.rate', 'cons.price.idx',\n",
              "       'cons.conf.idx', 'euribor3m', 'nr.employed', 'y'],\n",
              "      dtype='object')"
            ]
          },
          "metadata": {
            "tags": []
          },
          "execution_count": 6
        }
      ]
    },
    {
      "cell_type": "code",
      "metadata": {
        "id": "L_GgTYlFq41I",
        "colab_type": "code",
        "colab": {
          "base_uri": "https://localhost:8080/",
          "height": 422
        },
        "outputId": "5952fb3b-a0e1-484f-b49b-571fc3833e4a"
      },
      "source": [
        "# knowing the cataegorical features\n",
        "data.select_dtypes(include='object')"
      ],
      "execution_count": 7,
      "outputs": [
        {
          "output_type": "execute_result",
          "data": {
            "text/html": [
              "<div>\n",
              "<style scoped>\n",
              "    .dataframe tbody tr th:only-of-type {\n",
              "        vertical-align: middle;\n",
              "    }\n",
              "\n",
              "    .dataframe tbody tr th {\n",
              "        vertical-align: top;\n",
              "    }\n",
              "\n",
              "    .dataframe thead th {\n",
              "        text-align: right;\n",
              "    }\n",
              "</style>\n",
              "<table border=\"1\" class=\"dataframe\">\n",
              "  <thead>\n",
              "    <tr style=\"text-align: right;\">\n",
              "      <th></th>\n",
              "      <th>job</th>\n",
              "      <th>marital</th>\n",
              "      <th>education</th>\n",
              "      <th>default</th>\n",
              "      <th>housing</th>\n",
              "      <th>loan</th>\n",
              "      <th>contact</th>\n",
              "      <th>month</th>\n",
              "      <th>day_of_week</th>\n",
              "      <th>poutcome</th>\n",
              "      <th>y</th>\n",
              "    </tr>\n",
              "  </thead>\n",
              "  <tbody>\n",
              "    <tr>\n",
              "      <th>0</th>\n",
              "      <td>housemaid</td>\n",
              "      <td>married</td>\n",
              "      <td>basic.4y</td>\n",
              "      <td>no</td>\n",
              "      <td>no</td>\n",
              "      <td>no</td>\n",
              "      <td>telephone</td>\n",
              "      <td>may</td>\n",
              "      <td>mon</td>\n",
              "      <td>nonexistent</td>\n",
              "      <td>no</td>\n",
              "    </tr>\n",
              "    <tr>\n",
              "      <th>1</th>\n",
              "      <td>services</td>\n",
              "      <td>married</td>\n",
              "      <td>high.school</td>\n",
              "      <td>unknown</td>\n",
              "      <td>no</td>\n",
              "      <td>no</td>\n",
              "      <td>telephone</td>\n",
              "      <td>may</td>\n",
              "      <td>mon</td>\n",
              "      <td>nonexistent</td>\n",
              "      <td>no</td>\n",
              "    </tr>\n",
              "    <tr>\n",
              "      <th>2</th>\n",
              "      <td>services</td>\n",
              "      <td>married</td>\n",
              "      <td>high.school</td>\n",
              "      <td>no</td>\n",
              "      <td>yes</td>\n",
              "      <td>no</td>\n",
              "      <td>telephone</td>\n",
              "      <td>may</td>\n",
              "      <td>mon</td>\n",
              "      <td>nonexistent</td>\n",
              "      <td>no</td>\n",
              "    </tr>\n",
              "    <tr>\n",
              "      <th>3</th>\n",
              "      <td>admin.</td>\n",
              "      <td>married</td>\n",
              "      <td>basic.6y</td>\n",
              "      <td>no</td>\n",
              "      <td>no</td>\n",
              "      <td>no</td>\n",
              "      <td>telephone</td>\n",
              "      <td>may</td>\n",
              "      <td>mon</td>\n",
              "      <td>nonexistent</td>\n",
              "      <td>no</td>\n",
              "    </tr>\n",
              "    <tr>\n",
              "      <th>4</th>\n",
              "      <td>services</td>\n",
              "      <td>married</td>\n",
              "      <td>high.school</td>\n",
              "      <td>no</td>\n",
              "      <td>no</td>\n",
              "      <td>yes</td>\n",
              "      <td>telephone</td>\n",
              "      <td>may</td>\n",
              "      <td>mon</td>\n",
              "      <td>nonexistent</td>\n",
              "      <td>no</td>\n",
              "    </tr>\n",
              "    <tr>\n",
              "      <th>...</th>\n",
              "      <td>...</td>\n",
              "      <td>...</td>\n",
              "      <td>...</td>\n",
              "      <td>...</td>\n",
              "      <td>...</td>\n",
              "      <td>...</td>\n",
              "      <td>...</td>\n",
              "      <td>...</td>\n",
              "      <td>...</td>\n",
              "      <td>...</td>\n",
              "      <td>...</td>\n",
              "    </tr>\n",
              "    <tr>\n",
              "      <th>41183</th>\n",
              "      <td>retired</td>\n",
              "      <td>married</td>\n",
              "      <td>professional.course</td>\n",
              "      <td>no</td>\n",
              "      <td>yes</td>\n",
              "      <td>no</td>\n",
              "      <td>cellular</td>\n",
              "      <td>nov</td>\n",
              "      <td>fri</td>\n",
              "      <td>nonexistent</td>\n",
              "      <td>yes</td>\n",
              "    </tr>\n",
              "    <tr>\n",
              "      <th>41184</th>\n",
              "      <td>blue-collar</td>\n",
              "      <td>married</td>\n",
              "      <td>professional.course</td>\n",
              "      <td>no</td>\n",
              "      <td>no</td>\n",
              "      <td>no</td>\n",
              "      <td>cellular</td>\n",
              "      <td>nov</td>\n",
              "      <td>fri</td>\n",
              "      <td>nonexistent</td>\n",
              "      <td>no</td>\n",
              "    </tr>\n",
              "    <tr>\n",
              "      <th>41185</th>\n",
              "      <td>retired</td>\n",
              "      <td>married</td>\n",
              "      <td>university.degree</td>\n",
              "      <td>no</td>\n",
              "      <td>yes</td>\n",
              "      <td>no</td>\n",
              "      <td>cellular</td>\n",
              "      <td>nov</td>\n",
              "      <td>fri</td>\n",
              "      <td>nonexistent</td>\n",
              "      <td>no</td>\n",
              "    </tr>\n",
              "    <tr>\n",
              "      <th>41186</th>\n",
              "      <td>technician</td>\n",
              "      <td>married</td>\n",
              "      <td>professional.course</td>\n",
              "      <td>no</td>\n",
              "      <td>no</td>\n",
              "      <td>no</td>\n",
              "      <td>cellular</td>\n",
              "      <td>nov</td>\n",
              "      <td>fri</td>\n",
              "      <td>nonexistent</td>\n",
              "      <td>yes</td>\n",
              "    </tr>\n",
              "    <tr>\n",
              "      <th>41187</th>\n",
              "      <td>retired</td>\n",
              "      <td>married</td>\n",
              "      <td>professional.course</td>\n",
              "      <td>no</td>\n",
              "      <td>yes</td>\n",
              "      <td>no</td>\n",
              "      <td>cellular</td>\n",
              "      <td>nov</td>\n",
              "      <td>fri</td>\n",
              "      <td>failure</td>\n",
              "      <td>no</td>\n",
              "    </tr>\n",
              "  </tbody>\n",
              "</table>\n",
              "<p>41188 rows × 11 columns</p>\n",
              "</div>"
            ],
            "text/plain": [
              "               job  marital            education  ... day_of_week     poutcome    y\n",
              "0        housemaid  married             basic.4y  ...         mon  nonexistent   no\n",
              "1         services  married          high.school  ...         mon  nonexistent   no\n",
              "2         services  married          high.school  ...         mon  nonexistent   no\n",
              "3           admin.  married             basic.6y  ...         mon  nonexistent   no\n",
              "4         services  married          high.school  ...         mon  nonexistent   no\n",
              "...            ...      ...                  ...  ...         ...          ...  ...\n",
              "41183      retired  married  professional.course  ...         fri  nonexistent  yes\n",
              "41184  blue-collar  married  professional.course  ...         fri  nonexistent   no\n",
              "41185      retired  married    university.degree  ...         fri  nonexistent   no\n",
              "41186   technician  married  professional.course  ...         fri  nonexistent  yes\n",
              "41187      retired  married  professional.course  ...         fri      failure   no\n",
              "\n",
              "[41188 rows x 11 columns]"
            ]
          },
          "metadata": {
            "tags": []
          },
          "execution_count": 7
        }
      ]
    },
    {
      "cell_type": "code",
      "metadata": {
        "id": "azL0siaJtrGW",
        "colab_type": "code",
        "colab": {
          "base_uri": "https://localhost:8080/",
          "height": 67
        },
        "outputId": "d44db9f2-f96f-4c1b-98ec-5c5add55918f"
      },
      "source": [
        "# check how many members have subscribed deposit and how many doesnt subscribed\n",
        "data['y'].value_counts()"
      ],
      "execution_count": 8,
      "outputs": [
        {
          "output_type": "execute_result",
          "data": {
            "text/plain": [
              "no     36548\n",
              "yes     4640\n",
              "Name: y, dtype: int64"
            ]
          },
          "metadata": {
            "tags": []
          },
          "execution_count": 8
        }
      ]
    },
    {
      "cell_type": "code",
      "metadata": {
        "id": "MAndqaVTwpkp",
        "colab_type": "code",
        "colab": {
          "base_uri": "https://localhost:8080/",
          "height": 101
        },
        "outputId": "2ad39b22-48fa-421a-c500-e95d251b66c9"
      },
      "source": [
        "# lets have a look at outliers if any\n",
        "\n",
        "print('First quartile:', data['age'].quantile(q=0.25))\n",
        "print('Second quartile:', data['age'].quantile(q=0.50))\n",
        "print('Third quartile:', data['age'].quantile(q=0.75))\n",
        "print('Fourth quartile:', data['age'].quantile(q=1.00))\n",
        "\n",
        "# interquartile range -> iqr = q3-q1\n",
        "print(data['age'].quantile(q=0.75) - data['age'].quantile(q=0.25))"
      ],
      "execution_count": 9,
      "outputs": [
        {
          "output_type": "stream",
          "text": [
            "First quartile: 32.0\n",
            "Second quartile: 38.0\n",
            "Third quartile: 47.0\n",
            "Fourth quartile: 98.0\n",
            "15.0\n"
          ],
          "name": "stdout"
        }
      ]
    },
    {
      "cell_type": "code",
      "metadata": {
        "id": "NgOdAjGkyesF",
        "colab_type": "code",
        "colab": {
          "base_uri": "https://localhost:8080/",
          "height": 34
        },
        "outputId": "a56ddc75-1371-407e-d7f6-c5cc48d67c8e"
      },
      "source": [
        "# calculate lower bound and upper bound\n",
        "# lower = q1-1.5*iqr\n",
        "# upper = q3+1.5*iqr\n",
        "\n",
        "print('Upper bound: ', data['age'].quantile(q=0.75) + 1.5*(15.0), 'are outliers')"
      ],
      "execution_count": 10,
      "outputs": [
        {
          "output_type": "stream",
          "text": [
            "Upper bound:  69.5 are outliers\n"
          ],
          "name": "stdout"
        }
      ]
    },
    {
      "cell_type": "code",
      "metadata": {
        "id": "gD5m4j2H0WTh",
        "colab_type": "code",
        "colab": {
          "base_uri": "https://localhost:8080/",
          "height": 289
        },
        "outputId": "e91a5e85-cfb9-4285-dfe8-3acc7bc39ace"
      },
      "source": [
        "plt.figsize=(15,10)\n",
        "sns.boxplot(x=\"month\", y=\"age\",\n",
        "            hue=\"loan\", palette=[\"m\", \"g\"],\n",
        "            data=data)\n",
        "sns.despine(offset=10, trim=True)"
      ],
      "execution_count": 11,
      "outputs": [
        {
          "output_type": "display_data",
          "data": {
            "image/png": "[encoded data removed]",
            "text/plain": [
              "<Figure size 432x288 with 1 Axes>"
            ]
          },
          "metadata": {
            "tags": [],
            "needs_background": "light"
          }
        }
      ]
    },
    {
      "cell_type": "code",
      "metadata": {
        "id": "oa5ICkIX2onR",
        "colab_type": "code",
        "colab": {
          "base_uri": "https://localhost:8080/",
          "height": 296
        },
        "outputId": "0f3f6651-4b72-4d71-9b67-749111012a4b"
      },
      "source": [
        "sns.distplot(data['age'], hist=True, kde=True, \n",
        "             bins=int(180/5), color = 'blue',\n",
        "             hist_kws={'edgecolor':'black'})"
      ],
      "execution_count": 12,
      "outputs": [
        {
          "output_type": "execute_result",
          "data": {
            "text/plain": [
              "<matplotlib.axes._subplots.AxesSubplot at 0x7faa22770588>"
            ]
          },
          "metadata": {
            "tags": []
          },
          "execution_count": 12
        },
        {
          "output_type": "display_data",
          "data": {
            "image/png": "[encoded data removed]",
            "text/plain": [
              "<Figure size 432x288 with 1 Axes>"
            ]
          },
          "metadata": {
            "tags": [],
            "needs_background": "light"
          }
        }
      ]
    },
    {
      "cell_type": "code",
      "metadata": {
        "id": "382-KPAR3Pq6",
        "colab_type": "code",
        "colab": {
          "base_uri": "https://localhost:8080/",
          "height": 296
        },
        "outputId": "b394eda4-3cae-4724-b3f9-6ba3919b5443"
      },
      "source": [
        "sns.countplot(x='month',data=data)"
      ],
      "execution_count": 13,
      "outputs": [
        {
          "output_type": "execute_result",
          "data": {
            "text/plain": [
              "<matplotlib.axes._subplots.AxesSubplot at 0x7faa222a0898>"
            ]
          },
          "metadata": {
            "tags": []
          },
          "execution_count": 13
        },
        {
          "output_type": "display_data",
          "data": {
            "image/png": "[encoded data removed]",
            "text/plain": [
              "<Figure size 432x288 with 1 Axes>"
            ]
          },
          "metadata": {
            "tags": [],
            "needs_background": "light"
          }
        }
      ]
    },
    {
      "cell_type": "code",
      "metadata": {
        "id": "uQBDwrto3eiK",
        "colab_type": "code",
        "colab": {
          "base_uri": "https://localhost:8080/",
          "height": 296
        },
        "outputId": "b0d7f1a9-7b44-46ef-d606-14686cf4abac"
      },
      "source": [
        "sns.countplot(x='marital',data=data)"
      ],
      "execution_count": 14,
      "outputs": [
        {
          "output_type": "execute_result",
          "data": {
            "text/plain": [
              "<matplotlib.axes._subplots.AxesSubplot at 0x7faa22216f60>"
            ]
          },
          "metadata": {
            "tags": []
          },
          "execution_count": 14
        },
        {
          "output_type": "display_data",
          "data": {
            "image/png": "[encoded data removed]",
            "text/plain": [
              "<Figure size 432x288 with 1 Axes>"
            ]
          },
          "metadata": {
            "tags": [],
            "needs_background": "light"
          }
        }
      ]
    },
    {
      "cell_type": "code",
      "metadata": {
        "id": "F2pMF7Nc3qY5",
        "colab_type": "code",
        "colab": {
          "base_uri": "https://localhost:8080/",
          "height": 684
        },
        "outputId": "b47c6ad1-00a4-49f9-82f9-e6f6f0ced417"
      },
      "source": [
        "# find correlation\n",
        "plt.subplots(figsize=(12,12))\n",
        "sns.heatmap(data.corr(), annot=True)\n",
        "plt.show()"
      ],
      "execution_count": 15,
      "outputs": [
        {
          "output_type": "display_data",
          "data": {
            "image/png": "[encoded data removed]",
            "text/plain": [
              "<Figure size 864x864 with 2 Axes>"
            ]
          },
          "metadata": {
            "tags": [],
            "needs_background": "light"
          }
        }
      ]
    },
    {
      "cell_type": "code",
      "metadata": {
        "id": "XmBSpZBi5Qyv",
        "colab_type": "code",
        "colab": {
          "base_uri": "https://localhost:8080/",
          "height": 34
        },
        "outputId": "fe1fcc09-804b-4090-977e-398ffb26fe63"
      },
      "source": [
        "# splitting data into independent and dependent features\n",
        "X = data.drop('y', axis=1)\n",
        "y = data['y']\n",
        "print('shape of X is {x} and shape of y is {y}'.format(x = X.shape, y = y.shape))"
      ],
      "execution_count": 16,
      "outputs": [
        {
          "output_type": "stream",
          "text": [
            "shape of X is (41188, 20) and shape of y is (41188,)\n"
          ],
          "name": "stdout"
        }
      ]
    },
    {
      "cell_type": "code",
      "metadata": {
        "id": "ISJbv1OK4BLV",
        "colab_type": "code",
        "colab": {}
      },
      "source": [
        "# convert categorical features into numerical \n",
        "cat_cols = X.select_dtypes(include='object')\n",
        "for col in cat_cols:\n",
        "  le = LabelEncoder()\n",
        "  X[col] = le.fit_transform(X[col])"
      ],
      "execution_count": 17,
      "outputs": []
    },
    {
      "cell_type": "code",
      "metadata": {
        "id": "WQOYxH4X4vm8",
        "colab_type": "code",
        "colab": {
          "base_uri": "https://localhost:8080/",
          "height": 363
        },
        "outputId": "63b8780e-165d-4bf8-f6b6-26a800d6d8a8"
      },
      "source": [
        "X.head(10)"
      ],
      "execution_count": 18,
      "outputs": [
        {
          "output_type": "execute_result",
          "data": {
            "text/html": [
              "<div>\n",
              "<style scoped>\n",
              "    .dataframe tbody tr th:only-of-type {\n",
              "        vertical-align: middle;\n",
              "    }\n",
              "\n",
              "    .dataframe tbody tr th {\n",
              "        vertical-align: top;\n",
              "    }\n",
              "\n",
              "    .dataframe thead th {\n",
              "        text-align: right;\n",
              "    }\n",
              "</style>\n",
              "<table border=\"1\" class=\"dataframe\">\n",
              "  <thead>\n",
              "    <tr style=\"text-align: right;\">\n",
              "      <th></th>\n",
              "      <th>age</th>\n",
              "      <th>job</th>\n",
              "      <th>marital</th>\n",
              "      <th>education</th>\n",
              "      <th>default</th>\n",
              "      <th>housing</th>\n",
              "      <th>loan</th>\n",
              "      <th>contact</th>\n",
              "      <th>month</th>\n",
              "      <th>day_of_week</th>\n",
              "      <th>duration</th>\n",
              "      <th>campaign</th>\n",
              "      <th>pdays</th>\n",
              "      <th>previous</th>\n",
              "      <th>poutcome</th>\n",
              "      <th>emp.var.rate</th>\n",
              "      <th>cons.price.idx</th>\n",
              "      <th>cons.conf.idx</th>\n",
              "      <th>euribor3m</th>\n",
              "      <th>nr.employed</th>\n",
              "    </tr>\n",
              "  </thead>\n",
              "  <tbody>\n",
              "    <tr>\n",
              "      <th>0</th>\n",
              "      <td>56</td>\n",
              "      <td>3</td>\n",
              "      <td>1</td>\n",
              "      <td>0</td>\n",
              "      <td>0</td>\n",
              "      <td>0</td>\n",
              "      <td>0</td>\n",
              "      <td>1</td>\n",
              "      <td>6</td>\n",
              "      <td>1</td>\n",
              "      <td>261</td>\n",
              "      <td>1</td>\n",
              "      <td>999</td>\n",
              "      <td>0</td>\n",
              "      <td>1</td>\n",
              "      <td>1.1</td>\n",
              "      <td>93.994</td>\n",
              "      <td>-36.4</td>\n",
              "      <td>4.857</td>\n",
              "      <td>5191.0</td>\n",
              "    </tr>\n",
              "    <tr>\n",
              "      <th>1</th>\n",
              "      <td>57</td>\n",
              "      <td>7</td>\n",
              "      <td>1</td>\n",
              "      <td>3</td>\n",
              "      <td>1</td>\n",
              "      <td>0</td>\n",
              "      <td>0</td>\n",
              "      <td>1</td>\n",
              "      <td>6</td>\n",
              "      <td>1</td>\n",
              "      <td>149</td>\n",
              "      <td>1</td>\n",
              "      <td>999</td>\n",
              "      <td>0</td>\n",
              "      <td>1</td>\n",
              "      <td>1.1</td>\n",
              "      <td>93.994</td>\n",
              "      <td>-36.4</td>\n",
              "      <td>4.857</td>\n",
              "      <td>5191.0</td>\n",
              "    </tr>\n",
              "    <tr>\n",
              "      <th>2</th>\n",
              "      <td>37</td>\n",
              "      <td>7</td>\n",
              "      <td>1</td>\n",
              "      <td>3</td>\n",
              "      <td>0</td>\n",
              "      <td>2</td>\n",
              "      <td>0</td>\n",
              "      <td>1</td>\n",
              "      <td>6</td>\n",
              "      <td>1</td>\n",
              "      <td>226</td>\n",
              "      <td>1</td>\n",
              "      <td>999</td>\n",
              "      <td>0</td>\n",
              "      <td>1</td>\n",
              "      <td>1.1</td>\n",
              "      <td>93.994</td>\n",
              "      <td>-36.4</td>\n",
              "      <td>4.857</td>\n",
              "      <td>5191.0</td>\n",
              "    </tr>\n",
              "    <tr>\n",
              "      <th>3</th>\n",
              "      <td>40</td>\n",
              "      <td>0</td>\n",
              "      <td>1</td>\n",
              "      <td>1</td>\n",
              "      <td>0</td>\n",
              "      <td>0</td>\n",
              "      <td>0</td>\n",
              "      <td>1</td>\n",
              "      <td>6</td>\n",
              "      <td>1</td>\n",
              "      <td>151</td>\n",
              "      <td>1</td>\n",
              "      <td>999</td>\n",
              "      <td>0</td>\n",
              "      <td>1</td>\n",
              "      <td>1.1</td>\n",
              "      <td>93.994</td>\n",
              "      <td>-36.4</td>\n",
              "      <td>4.857</td>\n",
              "      <td>5191.0</td>\n",
              "    </tr>\n",
              "    <tr>\n",
              "      <th>4</th>\n",
              "      <td>56</td>\n",
              "      <td>7</td>\n",
              "      <td>1</td>\n",
              "      <td>3</td>\n",
              "      <td>0</td>\n",
              "      <td>0</td>\n",
              "      <td>2</td>\n",
              "      <td>1</td>\n",
              "      <td>6</td>\n",
              "      <td>1</td>\n",
              "      <td>307</td>\n",
              "      <td>1</td>\n",
              "      <td>999</td>\n",
              "      <td>0</td>\n",
              "      <td>1</td>\n",
              "      <td>1.1</td>\n",
              "      <td>93.994</td>\n",
              "      <td>-36.4</td>\n",
              "      <td>4.857</td>\n",
              "      <td>5191.0</td>\n",
              "    </tr>\n",
              "    <tr>\n",
              "      <th>5</th>\n",
              "      <td>45</td>\n",
              "      <td>7</td>\n",
              "      <td>1</td>\n",
              "      <td>2</td>\n",
              "      <td>1</td>\n",
              "      <td>0</td>\n",
              "      <td>0</td>\n",
              "      <td>1</td>\n",
              "      <td>6</td>\n",
              "      <td>1</td>\n",
              "      <td>198</td>\n",
              "      <td>1</td>\n",
              "      <td>999</td>\n",
              "      <td>0</td>\n",
              "      <td>1</td>\n",
              "      <td>1.1</td>\n",
              "      <td>93.994</td>\n",
              "      <td>-36.4</td>\n",
              "      <td>4.857</td>\n",
              "      <td>5191.0</td>\n",
              "    </tr>\n",
              "    <tr>\n",
              "      <th>6</th>\n",
              "      <td>59</td>\n",
              "      <td>0</td>\n",
              "      <td>1</td>\n",
              "      <td>5</td>\n",
              "      <td>0</td>\n",
              "      <td>0</td>\n",
              "      <td>0</td>\n",
              "      <td>1</td>\n",
              "      <td>6</td>\n",
              "      <td>1</td>\n",
              "      <td>139</td>\n",
              "      <td>1</td>\n",
              "      <td>999</td>\n",
              "      <td>0</td>\n",
              "      <td>1</td>\n",
              "      <td>1.1</td>\n",
              "      <td>93.994</td>\n",
              "      <td>-36.4</td>\n",
              "      <td>4.857</td>\n",
              "      <td>5191.0</td>\n",
              "    </tr>\n",
              "    <tr>\n",
              "      <th>7</th>\n",
              "      <td>41</td>\n",
              "      <td>1</td>\n",
              "      <td>1</td>\n",
              "      <td>7</td>\n",
              "      <td>1</td>\n",
              "      <td>0</td>\n",
              "      <td>0</td>\n",
              "      <td>1</td>\n",
              "      <td>6</td>\n",
              "      <td>1</td>\n",
              "      <td>217</td>\n",
              "      <td>1</td>\n",
              "      <td>999</td>\n",
              "      <td>0</td>\n",
              "      <td>1</td>\n",
              "      <td>1.1</td>\n",
              "      <td>93.994</td>\n",
              "      <td>-36.4</td>\n",
              "      <td>4.857</td>\n",
              "      <td>5191.0</td>\n",
              "    </tr>\n",
              "    <tr>\n",
              "      <th>8</th>\n",
              "      <td>24</td>\n",
              "      <td>9</td>\n",
              "      <td>2</td>\n",
              "      <td>5</td>\n",
              "      <td>0</td>\n",
              "      <td>2</td>\n",
              "      <td>0</td>\n",
              "      <td>1</td>\n",
              "      <td>6</td>\n",
              "      <td>1</td>\n",
              "      <td>380</td>\n",
              "      <td>1</td>\n",
              "      <td>999</td>\n",
              "      <td>0</td>\n",
              "      <td>1</td>\n",
              "      <td>1.1</td>\n",
              "      <td>93.994</td>\n",
              "      <td>-36.4</td>\n",
              "      <td>4.857</td>\n",
              "      <td>5191.0</td>\n",
              "    </tr>\n",
              "    <tr>\n",
              "      <th>9</th>\n",
              "      <td>25</td>\n",
              "      <td>7</td>\n",
              "      <td>2</td>\n",
              "      <td>3</td>\n",
              "      <td>0</td>\n",
              "      <td>2</td>\n",
              "      <td>0</td>\n",
              "      <td>1</td>\n",
              "      <td>6</td>\n",
              "      <td>1</td>\n",
              "      <td>50</td>\n",
              "      <td>1</td>\n",
              "      <td>999</td>\n",
              "      <td>0</td>\n",
              "      <td>1</td>\n",
              "      <td>1.1</td>\n",
              "      <td>93.994</td>\n",
              "      <td>-36.4</td>\n",
              "      <td>4.857</td>\n",
              "      <td>5191.0</td>\n",
              "    </tr>\n",
              "  </tbody>\n",
              "</table>\n",
              "</div>"
            ],
            "text/plain": [
              "   age  job  marital  ...  cons.conf.idx  euribor3m  nr.employed\n",
              "0   56    3        1  ...          -36.4      4.857       5191.0\n",
              "1   57    7        1  ...          -36.4      4.857       5191.0\n",
              "2   37    7        1  ...          -36.4      4.857       5191.0\n",
              "3   40    0        1  ...          -36.4      4.857       5191.0\n",
              "4   56    7        1  ...          -36.4      4.857       5191.0\n",
              "5   45    7        1  ...          -36.4      4.857       5191.0\n",
              "6   59    0        1  ...          -36.4      4.857       5191.0\n",
              "7   41    1        1  ...          -36.4      4.857       5191.0\n",
              "8   24    9        2  ...          -36.4      4.857       5191.0\n",
              "9   25    7        2  ...          -36.4      4.857       5191.0\n",
              "\n",
              "[10 rows x 20 columns]"
            ]
          },
          "metadata": {
            "tags": []
          },
          "execution_count": 18
        }
      ]
    },
    {
      "cell_type": "code",
      "metadata": {
        "id": "JxoDZhyc6v2P",
        "colab_type": "code",
        "colab": {}
      },
      "source": [
        "# map dependent feature to integers 0, 1\n",
        "y = pd.Series(np.where(y.values == 'yes', 1, 0), y.index)"
      ],
      "execution_count": 19,
      "outputs": []
    },
    {
      "cell_type": "code",
      "metadata": {
        "id": "k0NCCjRe7HCN",
        "colab_type": "code",
        "colab": {
          "base_uri": "https://localhost:8080/",
          "height": 67
        },
        "outputId": "f36ac9e2-1577-40b1-b54b-9f8806428e8e"
      },
      "source": [
        "y.value_counts()"
      ],
      "execution_count": 20,
      "outputs": [
        {
          "output_type": "execute_result",
          "data": {
            "text/plain": [
              "0    36548\n",
              "1     4640\n",
              "dtype: int64"
            ]
          },
          "metadata": {
            "tags": []
          },
          "execution_count": 20
        }
      ]
    },
    {
      "cell_type": "code",
      "metadata": {
        "id": "i8QBSRNc7Q9r",
        "colab_type": "code",
        "colab": {}
      },
      "source": [
        "# split data into training set and test set\n",
        "\n",
        "from sklearn.model_selection import train_test_split\n",
        "X_train, X_test, y_train, y_test = train_test_split(X, y, test_size=0.2, random_state = 10)"
      ],
      "execution_count": 21,
      "outputs": []
    },
    {
      "cell_type": "code",
      "metadata": {
        "id": "7F9krTz272Si",
        "colab_type": "code",
        "colab": {
          "base_uri": "https://localhost:8080/",
          "height": 84
        },
        "outputId": "7dc5f480-5a57-49d2-93bc-fbe8b6a8882f"
      },
      "source": [
        "print('X_train shape is {}'.format(X_train.shape))\n",
        "print('X_test shape is {}'.format(X_test.shape))\n",
        "print('y_train shape is {}'.format(y_train.shape))\n",
        "print('y_test shape is {}'.format(y_test.shape))"
      ],
      "execution_count": 22,
      "outputs": [
        {
          "output_type": "stream",
          "text": [
            "X_train shape is (32950, 20)\n",
            "X_test shape is (8238, 20)\n",
            "y_train shape is (32950,)\n",
            "y_test shape is (8238,)\n"
          ],
          "name": "stdout"
        }
      ]
    },
    {
      "cell_type": "code",
      "metadata": {
        "id": "A356OM5V8Tdj",
        "colab_type": "code",
        "colab": {
          "base_uri": "https://localhost:8080/",
          "height": 171
        },
        "outputId": "4f3074c1-def9-46f3-9ff7-2fc4818e47e0"
      },
      "source": [
        "# logistic regression\n",
        "\n",
        "from sklearn.linear_model import LogisticRegression\n",
        "\n",
        "lr = LogisticRegression()\n",
        "model = lr.fit(X_train, y_train)"
      ],
      "execution_count": 23,
      "outputs": [
        {
          "output_type": "stream",
          "text": [
            "/usr/local/lib/python3.6/dist-packages/sklearn/linear_model/_logistic.py:940: ConvergenceWarning: lbfgs failed to converge (status=1):\n",
            "STOP: TOTAL NO. of ITERATIONS REACHED LIMIT.\n",
            "\n",
            "Increase the number of iterations (max_iter) or scale the data as shown in:\n",
            "    https://scikit-learn.org/stable/modules/preprocessing.html\n",
            "Please also refer to the documentation for alternative solver options:\n",
            "    https://scikit-learn.org/stable/modules/linear_model.html#logistic-regression\n",
            "  extra_warning_msg=_LOGISTIC_SOLVER_CONVERGENCE_MSG)\n"
          ],
          "name": "stderr"
        }
      ]
    },
    {
      "cell_type": "code",
      "metadata": {
        "id": "iwdwkbvK9h_4",
        "colab_type": "code",
        "colab": {
          "base_uri": "https://localhost:8080/",
          "height": 34
        },
        "outputId": "24bf160a-1d5e-445a-d37e-55117abe3418"
      },
      "source": [
        "y_pred = model.predict(X_test)\n",
        "model1 = model.score(X_test, y_test)\n",
        "print('Model Accuracy: {}'.format(model1))"
      ],
      "execution_count": 24,
      "outputs": [
        {
          "output_type": "stream",
          "text": [
            "Model Accuracy: 0.9038601602330663\n"
          ],
          "name": "stdout"
        }
      ]
    },
    {
      "cell_type": "code",
      "metadata": {
        "id": "qWK34nFi9jFg",
        "colab_type": "code",
        "colab": {
          "base_uri": "https://localhost:8080/",
          "height": 235
        },
        "outputId": "8b3c6c47-9e23-48f4-c05d-3f09f080a802"
      },
      "source": [
        "# confusion matrix and classification report\n",
        "from sklearn.metrics import confusion_matrix, classification_report, accuracy_score, auc\n",
        "print(confusion_matrix(y_test,  y_pred))\n",
        "print('\\n')\n",
        "print(classification_report(y_pred,  y_test))"
      ],
      "execution_count": 25,
      "outputs": [
        {
          "output_type": "stream",
          "text": [
            "[[7105  205]\n",
            " [ 587  341]]\n",
            "\n",
            "\n",
            "              precision    recall  f1-score   support\n",
            "\n",
            "           0       0.97      0.92      0.95      7692\n",
            "           1       0.37      0.62      0.46       546\n",
            "\n",
            "    accuracy                           0.90      8238\n",
            "   macro avg       0.67      0.77      0.70      8238\n",
            "weighted avg       0.93      0.90      0.92      8238\n",
            "\n"
          ],
          "name": "stdout"
        }
      ]
    },
    {
      "cell_type": "code",
      "metadata": {
        "id": "WrjNdd6t-2o2",
        "colab_type": "code",
        "colab": {
          "base_uri": "https://localhost:8080/",
          "height": 295
        },
        "outputId": "b952d575-4be0-4148-9f42-7be034c9d36f"
      },
      "source": [
        "# roc_auc_score and roc_auc_curve\n",
        "\n",
        "from sklearn.metrics import roc_auc_score, roc_curve, auc\n",
        "prob = model.predict_proba(X_test)\n",
        "predictions = prob[:,1]\n",
        "fpr, tpr, threshold = roc_curve(y_test, predictions)\n",
        "roc_auc = roc_auc_score(y_test, model.predict(X_test))\n",
        "auc = auc(fpr, tpr)\n",
        "# plotting\n",
        "plt.plot(fpr, tpr, label='Logistic Regression Base (area = %0.2f)' % roc_auc)\n",
        "plt.plot([0, 1], [0, 1],'r--')\n",
        "plt.xlim([0.0, 1.0])\n",
        "plt.ylim([0.0, 1.05])\n",
        "plt.xlabel('False Positive Rate')\n",
        "plt.ylabel('True Positive Rate')\n",
        "plt.title('Receiver operating characteristic')\n",
        "plt.legend(loc=\"lower right\")\n",
        "plt.savefig('LogReg_ROC')\n",
        "plt.show()"
      ],
      "execution_count": 26,
      "outputs": [
        {
          "output_type": "display_data",
          "data": {
            "image/png": "[encoded data removed]",
            "text/plain": [
              "<Figure size 432x288 with 1 Axes>"
            ]
          },
          "metadata": {
            "tags": [],
            "needs_background": "light"
          }
        }
      ]
    },
    {
      "cell_type": "code",
      "metadata": {
        "id": "awbBqAWEE0VU",
        "colab_type": "code",
        "colab": {
          "base_uri": "https://localhost:8080/",
          "height": 67
        },
        "outputId": "ab3acb9d-f153-43b4-c1e9-1678273f0b87"
      },
      "source": [
        "print(\"Before OverSampling, counts of label '1': {}\".format(sum(y_train == 1))) \n",
        "print(\"Before OverSampling, counts of label '0': {} \\n\".format(sum(y_train == 0))) \n",
        "  "
      ],
      "execution_count": 27,
      "outputs": [
        {
          "output_type": "stream",
          "text": [
            "Before OverSampling, counts of label '1': 3712\n",
            "Before OverSampling, counts of label '0': 29238 \n",
            "\n"
          ],
          "name": "stdout"
        }
      ]
    },
    {
      "cell_type": "code",
      "metadata": {
        "id": "eA4lim9mFnRL",
        "colab_type": "code",
        "colab": {
          "base_uri": "https://localhost:8080/",
          "height": 138
        },
        "outputId": "4b3f7f83-e7d8-46dc-f700-85f100d81aa5"
      },
      "source": [
        "# SMOTE module\n",
        "from imblearn.over_sampling import SMOTE \n",
        "sm = SMOTE(random_state = 2) \n",
        "X_train_res, y_train_res = sm.fit_sample(X_train, y_train.ravel())"
      ],
      "execution_count": 28,
      "outputs": [
        {
          "output_type": "stream",
          "text": [
            "/usr/local/lib/python3.6/dist-packages/sklearn/externals/six.py:31: FutureWarning: The module is deprecated in version 0.21 and will be removed in version 0.23 since we've dropped support for Python 2.7. Please rely on the official version of six (https://pypi.org/project/six/).\n",
            "  \"(https://pypi.org/project/six/).\", FutureWarning)\n",
            "/usr/local/lib/python3.6/dist-packages/sklearn/utils/deprecation.py:144: FutureWarning: The sklearn.neighbors.base module is  deprecated in version 0.22 and will be removed in version 0.24. The corresponding classes / functions should instead be imported from sklearn.neighbors. Anything that cannot be imported from sklearn.neighbors is now part of the private API.\n",
            "  warnings.warn(message, FutureWarning)\n",
            "/usr/local/lib/python3.6/dist-packages/sklearn/utils/deprecation.py:87: FutureWarning: Function safe_indexing is deprecated; safe_indexing is deprecated in version 0.22 and will be removed in version 0.24.\n",
            "  warnings.warn(msg, category=FutureWarning)\n"
          ],
          "name": "stderr"
        }
      ]
    },
    {
      "cell_type": "code",
      "metadata": {
        "id": "COULgr0ZF1_s",
        "colab_type": "code",
        "colab": {
          "base_uri": "https://localhost:8080/",
          "height": 50
        },
        "outputId": "90f7df60-b698-410a-9e7c-7a7874666cff"
      },
      "source": [
        "print(\"After OverSampling, counts of label '1': {}\".format(sum(y_train_res == 1))) \n",
        "print(\"After OverSampling, counts of label '0': {}\".format(sum(y_train_res == 0))) "
      ],
      "execution_count": 29,
      "outputs": [
        {
          "output_type": "stream",
          "text": [
            "After OverSampling, counts of label '1': 29238\n",
            "After OverSampling, counts of label '0': 29238\n"
          ],
          "name": "stdout"
        }
      ]
    },
    {
      "cell_type": "code",
      "metadata": {
        "id": "yuZQghQhGcb2",
        "colab_type": "code",
        "colab": {
          "base_uri": "https://localhost:8080/",
          "height": 34
        },
        "outputId": "8d3c40d6-5a9c-48c0-ff74-6a715a938da1"
      },
      "source": [
        "#Outliers in %\n",
        "print('Outliers are:', round(X[X['duration'] > 644.5]['duration'].count()*100/len(X),2), '%')"
      ],
      "execution_count": 30,
      "outputs": [
        {
          "output_type": "stream",
          "text": [
            "Outliers are: 7.19 %\n"
          ],
          "name": "stdout"
        }
      ]
    },
    {
      "cell_type": "code",
      "metadata": {
        "id": "LW-bL5LBGm0K",
        "colab_type": "code",
        "colab": {}
      },
      "source": [
        "# knn model\n",
        "\n",
        "from sklearn.neighbors import KNeighborsClassifier\n",
        "from sklearn.model_selection import KFold\n",
        "from sklearn.model_selection import cross_val_score\n",
        "\n",
        "k_fold = KFold(n_splits=10, shuffle=True, random_state=0)\n",
        "\n",
        "knn = KNeighborsClassifier(n_neighbors=22)\n",
        "knn.fit(X_train, y_train)\n",
        "pred = knn.predict(X_test)"
      ],
      "execution_count": 31,
      "outputs": []
    },
    {
      "cell_type": "code",
      "metadata": {
        "id": "LqvFawv1Hi9x",
        "colab_type": "code",
        "colab": {
          "base_uri": "https://localhost:8080/",
          "height": 101
        },
        "outputId": "9eeb8aae-1548-44b4-cc60-cede7d169eff"
      },
      "source": [
        "print(confusion_matrix(y_test, pred))\n",
        "print('\\n')\n",
        "print(round(accuracy_score(y_test, pred),2)*100)\n",
        "knn_cv= (cross_val_score(knn, X_train, y_train, cv=k_fold, n_jobs=1, scoring = 'accuracy').mean())"
      ],
      "execution_count": 32,
      "outputs": [
        {
          "output_type": "stream",
          "text": [
            "[[7071  239]\n",
            " [ 523  405]]\n",
            "\n",
            "\n",
            "91.0\n"
          ],
          "name": "stdout"
        }
      ]
    },
    {
      "cell_type": "code",
      "metadata": {
        "id": "gtCjA5OhIfE_",
        "colab_type": "code",
        "colab": {
          "base_uri": "https://localhost:8080/",
          "height": 67
        },
        "outputId": "47d8238f-1801-4866-8a63-90331e5205e1"
      },
      "source": [
        "# SVM model\n",
        "\n",
        "from sklearn.svm import SVC\n",
        "svc= SVC(kernel = 'sigmoid')\n",
        "svc.fit(X_train, y_train)\n",
        "svc_pred = svc.predict(X_test)\n",
        "print(confusion_matrix(y_test, svc_pred))\n",
        "print(round(accuracy_score(y_test, svc_pred),2)*100)\n",
        "svm_cv = (cross_val_score(svc, X_train, y_train, cv=k_fold, n_jobs=1, scoring = 'accuracy').mean())"
      ],
      "execution_count": 33,
      "outputs": [
        {
          "output_type": "stream",
          "text": [
            "[[7192  118]\n",
            " [ 741  187]]\n",
            "90.0\n"
          ],
          "name": "stdout"
        }
      ]
    },
    {
      "cell_type": "code",
      "metadata": {
        "id": "LFMdeSJ5J2Wv",
        "colab_type": "code",
        "colab": {
          "base_uri": "https://localhost:8080/",
          "height": 353
        },
        "outputId": "deedd3bc-e7a7-461b-aed6-fdbdd8736295"
      },
      "source": [
        "print(classification_report(svc_pred, y_test))\n",
        "print('\\n')\n",
        "print(classification_report(pred, y_test))"
      ],
      "execution_count": 34,
      "outputs": [
        {
          "output_type": "stream",
          "text": [
            "              precision    recall  f1-score   support\n",
            "\n",
            "           0       0.98      0.91      0.94      7933\n",
            "           1       0.20      0.61      0.30       305\n",
            "\n",
            "    accuracy                           0.90      8238\n",
            "   macro avg       0.59      0.76      0.62      8238\n",
            "weighted avg       0.95      0.90      0.92      8238\n",
            "\n",
            "\n",
            "\n",
            "              precision    recall  f1-score   support\n",
            "\n",
            "           0       0.97      0.93      0.95      7594\n",
            "           1       0.44      0.63      0.52       644\n",
            "\n",
            "    accuracy                           0.91      8238\n",
            "   macro avg       0.70      0.78      0.73      8238\n",
            "weighted avg       0.93      0.91      0.91      8238\n",
            "\n"
          ],
          "name": "stdout"
        }
      ]
    },
    {
      "cell_type": "code",
      "metadata": {
        "id": "mPLqHFtEKNss",
        "colab_type": "code",
        "colab": {
          "base_uri": "https://localhost:8080/",
          "height": 67
        },
        "outputId": "28ec0cf9-ac4f-46f6-9918-3e1a8f31c84a"
      },
      "source": [
        "# DecisionTree model\n",
        "from sklearn.tree import DecisionTreeClassifier\n",
        "dt = DecisionTreeClassifier(criterion='gini') #criterion = entopy, gini\n",
        "dt.fit(X_train, y_train)\n",
        "dt_pred = dt.predict(X_test)\n",
        "\n",
        "print(confusion_matrix(y_test, dt_pred))\n",
        "print(round(accuracy_score(y_test, dt_pred),2)*100)\n",
        "dt_cv = (cross_val_score(dt, X_train, y_train, cv=k_fold, n_jobs=1, scoring = 'accuracy').mean())"
      ],
      "execution_count": 35,
      "outputs": [
        {
          "output_type": "stream",
          "text": [
            "[[6829  481]\n",
            " [ 431  497]]\n",
            "89.0\n"
          ],
          "name": "stdout"
        }
      ]
    },
    {
      "cell_type": "code",
      "metadata": {
        "id": "j7MfztQJKvav",
        "colab_type": "code",
        "colab": {
          "base_uri": "https://localhost:8080/",
          "height": 168
        },
        "outputId": "c76bad87-96f9-48e8-fdb8-7102a94ac656"
      },
      "source": [
        "print(classification_report(dt_pred, y_test))"
      ],
      "execution_count": 36,
      "outputs": [
        {
          "output_type": "stream",
          "text": [
            "              precision    recall  f1-score   support\n",
            "\n",
            "           0       0.93      0.94      0.94      7260\n",
            "           1       0.54      0.51      0.52       978\n",
            "\n",
            "    accuracy                           0.89      8238\n",
            "   macro avg       0.73      0.72      0.73      8238\n",
            "weighted avg       0.89      0.89      0.89      8238\n",
            "\n"
          ],
          "name": "stdout"
        }
      ]
    },
    {
      "cell_type": "code",
      "metadata": {
        "id": "WQBqaeRlK3ZL",
        "colab_type": "code",
        "colab": {
          "base_uri": "https://localhost:8080/",
          "height": 67
        },
        "outputId": "bece9901-e6b6-47c4-fe0d-28b3b2272346"
      },
      "source": [
        "# RandomForest model\n",
        "from sklearn.ensemble import RandomForestClassifier\n",
        "rfc = RandomForestClassifier(n_estimators = 200)#criterion = entopy,gini\n",
        "rfc.fit(X_train, y_train)\n",
        "rfc_pred = rfc.predict(X_test)\n",
        "\n",
        "print(confusion_matrix(y_test, rfc_pred ))\n",
        "print(round(accuracy_score(y_test, rfc_pred),2)*100)\n",
        "rf_cv = (cross_val_score(rfc, X_train, y_train, cv=k_fold, n_jobs=1, scoring = 'accuracy').mean())"
      ],
      "execution_count": 37,
      "outputs": [
        {
          "output_type": "stream",
          "text": [
            "[[7060  250]\n",
            " [ 469  459]]\n",
            "91.0\n"
          ],
          "name": "stdout"
        }
      ]
    },
    {
      "cell_type": "code",
      "metadata": {
        "id": "1-dYF3_gLdqZ",
        "colab_type": "code",
        "colab": {
          "base_uri": "https://localhost:8080/",
          "height": 168
        },
        "outputId": "de839d30-5e64-48a0-865b-ef59b2a9b5ed"
      },
      "source": [
        "print(classification_report(rfc_pred, y_test))"
      ],
      "execution_count": 38,
      "outputs": [
        {
          "output_type": "stream",
          "text": [
            "              precision    recall  f1-score   support\n",
            "\n",
            "           0       0.97      0.94      0.95      7529\n",
            "           1       0.49      0.65      0.56       709\n",
            "\n",
            "    accuracy                           0.91      8238\n",
            "   macro avg       0.73      0.79      0.76      8238\n",
            "weighted avg       0.93      0.91      0.92      8238\n",
            "\n"
          ],
          "name": "stdout"
        }
      ]
    },
    {
      "cell_type": "code",
      "metadata": {
        "id": "1n0N0QY0L1lj",
        "colab_type": "code",
        "colab": {
          "base_uri": "https://localhost:8080/",
          "height": 67
        },
        "outputId": "d4f72473-7e78-497d-f018-ada5288f046b"
      },
      "source": [
        "from xgboost import XGBClassifier\n",
        "xgb = XGBClassifier()\n",
        "xgb.fit(X_train, y_train)\n",
        "xgb_pred = xgb.predict(X_test)\n",
        "\n",
        "print(confusion_matrix(y_test, xgb_pred ))\n",
        "print(round(accuracy_score(y_test, xgb_pred),2)*100)\n",
        "xgb_cv = (cross_val_score(estimator = xgb, X = X_train, y = y_train, cv = 10).mean())"
      ],
      "execution_count": 39,
      "outputs": [
        {
          "output_type": "stream",
          "text": [
            "[[7075  235]\n",
            " [ 491  437]]\n",
            "91.0\n"
          ],
          "name": "stdout"
        }
      ]
    },
    {
      "cell_type": "code",
      "metadata": {
        "id": "5jb7-P8kMFc4",
        "colab_type": "code",
        "colab": {
          "base_uri": "https://localhost:8080/",
          "height": 168
        },
        "outputId": "5cac6a92-3eec-4e72-94cf-e4a2a22e0393"
      },
      "source": [
        "print(classification_report(xgb_pred, y_test))"
      ],
      "execution_count": 40,
      "outputs": [
        {
          "output_type": "stream",
          "text": [
            "              precision    recall  f1-score   support\n",
            "\n",
            "           0       0.97      0.94      0.95      7566\n",
            "           1       0.47      0.65      0.55       672\n",
            "\n",
            "    accuracy                           0.91      8238\n",
            "   macro avg       0.72      0.79      0.75      8238\n",
            "weighted avg       0.93      0.91      0.92      8238\n",
            "\n"
          ],
          "name": "stdout"
        }
      ]
    },
    {
      "cell_type": "code",
      "metadata": {
        "id": "kdfyv6XmNs6u",
        "colab_type": "code",
        "colab": {
          "base_uri": "https://localhost:8080/",
          "height": 67
        },
        "outputId": "be2d5ac7-e637-4536-d7b0-9c6a62243af6"
      },
      "source": [
        "from sklearn.ensemble import GradientBoostingClassifier\n",
        "gbk = GradientBoostingClassifier()\n",
        "gbk.fit(X_train, y_train)\n",
        "gbk_pred = gbk.predict(X_test)\n",
        "print(confusion_matrix(y_test, gbk_pred ))\n",
        "print(round(accuracy_score(y_test, gbk_pred),2)*100)\n",
        "gbk_cv = (cross_val_score(gbk, X_train, y_train, cv=k_fold, n_jobs=1, scoring = 'accuracy').mean())"
      ],
      "execution_count": 41,
      "outputs": [
        {
          "output_type": "stream",
          "text": [
            "[[7056  254]\n",
            " [ 460  468]]\n",
            "91.0\n"
          ],
          "name": "stdout"
        }
      ]
    },
    {
      "cell_type": "code",
      "metadata": {
        "id": "mNCu0Lm3N3Qy",
        "colab_type": "code",
        "colab": {
          "base_uri": "https://localhost:8080/",
          "height": 168
        },
        "outputId": "6f7d3d57-0edb-4d2a-9e2a-b5d93c1201e5"
      },
      "source": [
        "print(classification_report(gbk_pred, y_test))"
      ],
      "execution_count": 42,
      "outputs": [
        {
          "output_type": "stream",
          "text": [
            "              precision    recall  f1-score   support\n",
            "\n",
            "           0       0.97      0.94      0.95      7516\n",
            "           1       0.50      0.65      0.57       722\n",
            "\n",
            "    accuracy                           0.91      8238\n",
            "   macro avg       0.73      0.79      0.76      8238\n",
            "weighted avg       0.92      0.91      0.92      8238\n",
            "\n"
          ],
          "name": "stdout"
        }
      ]
    },
    {
      "cell_type": "code",
      "metadata": {
        "id": "TiC8TeBXNQEy",
        "colab_type": "code",
        "colab": {
          "base_uri": "https://localhost:8080/",
          "height": 295
        },
        "outputId": "9f37e9fe-3be4-44bf-b1e1-80787edce377"
      },
      "source": [
        "# roc_auc_score and roc_auc_curve\n",
        "\n",
        "from sklearn.metrics import roc_auc_score, roc_curve, auc\n",
        "\n",
        "prob = dt.predict_proba(X_test)\n",
        "predictions = prob[:,1]\n",
        "fpr, tpr, threshold = roc_curve(y_test, predictions)\n",
        "roc_auc = roc_auc_score(y_test, dt.predict(X_test))\n",
        "auc = auc(fpr, tpr)\n",
        "\n",
        "#plotting\n",
        "plt.plot(fpr, tpr, label='AUC= %0.2f' % roc_auc)\n",
        "plt.plot([0, 1], [0, 1],'r--')\n",
        "plt.xlim([0.0, 1.0])\n",
        "plt.ylim([0.0, 1.05])\n",
        "plt.xlabel('False Positive Rate')\n",
        "plt.ylabel('True Positive Rate')\n",
        "plt.title('Receiver operating characteristic (Decision Tree)')\n",
        "plt.legend(loc=\"lower right\")\n",
        "plt.savefig('LogReg_ROC')\n",
        "plt.show()"
      ],
      "execution_count": 43,
      "outputs": [
        {
          "output_type": "display_data",
          "data": {
            "image/png": "[encoded data removed]",
            "text/plain": [
              "<Figure size 432x288 with 1 Axes>"
            ]
          },
          "metadata": {
            "tags": [],
            "needs_background": "light"
          }
        }
      ]
    },
    {
      "cell_type": "code",
      "metadata": {
        "id": "3HN2bgLGRwYV",
        "colab_type": "code",
        "colab": {
          "base_uri": "https://localhost:8080/",
          "height": 276
        },
        "outputId": "2140f18b-4634-4107-c0ac-8b68fac51bfb"
      },
      "source": [
        "\n",
        "from sklearn.metrics import roc_auc_score, roc_curve, auc\n",
        "fig, (ax, ax1) = plt.subplots(nrows = 1, ncols = 2, figsize = (15,5))\n",
        "probs = xgb.predict_proba(X_test)\n",
        "preds = probs[:,1]\n",
        "fprxgb, tprxgb, thresholdxgb = roc_curve(y_test, preds)\n",
        "roc_aucxgb = auc(fprxgb, tprxgb)\n",
        "\n",
        "ax.plot(fprxgb, tprxgb, 'b', label = 'AUC = %0.2f' % roc_aucxgb)\n",
        "ax.plot([0, 1], [0, 1],'r--')\n",
        "ax.set_title('Receiver Operating Characteristic XGBOOST ',fontsize=10)\n",
        "ax.set_ylabel('True Positive Rate',fontsize=20)\n",
        "ax.set_xlabel('False Positive Rate',fontsize=15)\n",
        "ax.legend(loc = 'lower right', prop={'size': 16})\n",
        "\n",
        "\n",
        "#Gradient\n",
        "probs = gbk.predict_proba(X_test)\n",
        "preds = probs[:,1]\n",
        "fprgbk, tprgbk, thresholdgbk = roc_curve(y_test, preds)\n",
        "roc_aucgbk = auc(fprgbk, tprgbk)\n",
        "\n",
        "ax1.plot(fprgbk, tprgbk, 'b', label = 'AUC = %0.2f' % roc_aucgbk)\n",
        "ax1.plot([0, 1], [0, 1],'r--')\n",
        "ax1.set_title('Receiver Operating Characteristic of GRADIENT BOOSTING ',fontsize=10)\n",
        "ax1.set_ylabel('True Positive Rate',fontsize=20)\n",
        "ax1.set_xlabel('False Positive Rate',fontsize=15)\n",
        "ax1.legend(loc = 'lower right', prop={'size': 16})"
      ],
      "execution_count": 44,
      "outputs": [
        {
          "output_type": "execute_result",
          "data": {
            "text/plain": [
              "<matplotlib.legend.Legend at 0x7faa228c4198>"
            ]
          },
          "metadata": {
            "tags": []
          },
          "execution_count": 44
        },
        {
          "output_type": "display_data",
          "data": {
            "image/png": "[encoded data removed]",
            "text/plain": [
              "<Figure size 1080x360 with 2 Axes>"
            ]
          },
          "metadata": {
            "tags": [],
            "needs_background": "light"
          }
        }
      ]
    },
    {
      "cell_type": "code",
      "metadata": {
        "id": "LEMciRJUXBon",
        "colab_type": "code",
        "colab": {
          "base_uri": "https://localhost:8080/",
          "height": 295
        },
        "outputId": "357453f2-ed5c-43b6-c88e-05760bb05f10"
      },
      "source": [
        "from sklearn.metrics import roc_auc_score, roc_curve, auc\n",
        "\n",
        "prob = rfc.predict_proba(X_test)\n",
        "predictions = prob[:,1]\n",
        "fpr, tpr, threshold = roc_curve(y_test, predictions)\n",
        "roc_auc = roc_auc_score(y_test, rfc.predict(X_test))\n",
        "auc = auc(fpr, tpr)\n",
        "\n",
        "#plotting\n",
        "plt.plot(fpr, tpr, label='AUC= %0.2f' % roc_auc)\n",
        "plt.plot([0, 1], [0, 1],'r--')\n",
        "# plt.xlim([0.0, 1.0])\n",
        "# plt.ylim([0.0, 1.05])\n",
        "plt.xlabel('False Positive Rate')\n",
        "plt.ylabel('True Positive Rate')\n",
        "plt.title('Receiver operating characteristic (Random Forest Classifier)')\n",
        "plt.legend(loc=\"lower right\", prop={'size': 16})\n",
        "plt.savefig('LogReg_ROC')\n",
        "plt.show()"
      ],
      "execution_count": 45,
      "outputs": [
        {
          "output_type": "display_data",
          "data": {
            "image/png": "[encoded data removed]",
            "text/plain": [
              "<Figure size 432x288 with 1 Axes>"
            ]
          },
          "metadata": {
            "tags": [],
            "needs_background": "light"
          }
        }
      ]
    },
    {
      "cell_type": "code",
      "metadata": {
        "id": "XmnUkj6RlKPP",
        "colab_type": "code",
        "colab": {
          "base_uri": "https://localhost:8080/",
          "height": 101
        },
        "outputId": "b5fd6a53-9a5a-4fd1-a4f2-1d5a546355bf"
      },
      "source": [
        "from sklearn.naive_bayes import GaussianNB\n",
        "gnb= GaussianNB()\n",
        "gnb.fit(X_train, y_train)\n",
        "gnb_pred = gnb.predict(X_test)\n",
        "model1 = gnb.predict(X_test)\n",
        "\n",
        "print(confusion_matrix(y_test, gnb_pred ))\n",
        "print('\\n')\n",
        "print(round(accuracy_score(y_test, gnb_pred),2)*100)\n",
        "gnb_cv = (cross_val_score(gnb, X_train, y_train, cv=k_fold, n_jobs=1, scoring = 'accuracy').mean())"
      ],
      "execution_count": 46,
      "outputs": [
        {
          "output_type": "stream",
          "text": [
            "[[6388  922]\n",
            " [ 401  527]]\n",
            "\n",
            "\n",
            "84.0\n"
          ],
          "name": "stdout"
        }
      ]
    },
    {
      "cell_type": "code",
      "metadata": {
        "id": "Y_z-6-e6lpKV",
        "colab_type": "code",
        "colab": {
          "base_uri": "https://localhost:8080/",
          "height": 295
        },
        "outputId": "7b6682dc-931c-4719-8b92-43906aea05df"
      },
      "source": [
        "from sklearn.metrics import roc_auc_score, roc_curve, auc\n",
        "\n",
        "prob = gnb.predict_proba(X_test)\n",
        "predictions = prob[:,1]\n",
        "fpr, tpr, threshold = roc_curve(y_test, predictions)\n",
        "roc_auc = roc_auc_score(y_test, gnb.predict(X_test))\n",
        "auc = auc(fpr, tpr)\n",
        "\n",
        "#plotting\n",
        "plt.plot(fpr, tpr, label='AUC= %0.2f' % roc_auc)\n",
        "plt.plot([0, 1], [0, 1],'r--')\n",
        "# plt.xlim([0.0, 1.0])\n",
        "# plt.ylim([0.0, 1.05])\n",
        "plt.xlabel('False Positive Rate')\n",
        "plt.ylabel('True Positive Rate')\n",
        "plt.title('Receiver operating characteristic (Guassian Naive Bayes)')\n",
        "plt.legend(loc=\"lower right\", prop={'size': 16})\n",
        "plt.savefig('LogReg_ROC')\n",
        "plt.show()"
      ],
      "execution_count": 47,
      "outputs": [
        {
          "output_type": "display_data",
          "data": {
            "image/png": "[encoded data removed]",
            "text/plain": [
              "<Figure size 432x288 with 1 Axes>"
            ]
          },
          "metadata": {
            "tags": [],
            "needs_background": "light"
          }
        }
      ]
    },
    {
      "cell_type": "code",
      "metadata": {
        "id": "REwtRv4rl0dT",
        "colab_type": "code",
        "colab": {}
      },
      "source": [
        "# Feature scaling on x_train and x_test\n",
        "from sklearn.preprocessing import StandardScaler\n",
        "\n",
        "sc = StandardScaler()\n",
        "X_train = sc.fit_transform(X_train)\n",
        "X_test = sc.fit_transform(X_test)"
      ],
      "execution_count": 48,
      "outputs": []
    },
    {
      "cell_type": "code",
      "metadata": {
        "id": "zBfI7eaFmr6Z",
        "colab_type": "code",
        "colab": {
          "base_uri": "https://localhost:8080/",
          "height": 34
        },
        "outputId": "843eae46-37ba-4322-cbd6-3c0639881d2f"
      },
      "source": [
        "# importing keras libraries\n",
        "\n",
        "import keras\n",
        "from keras.models import Sequential\n",
        "from keras.layers import Dense, Activation, Embedding, Flatten, LeakyReLU, BatchNormalization, Dropout\n",
        "from keras.activations import relu, sigmoid"
      ],
      "execution_count": 49,
      "outputs": [
        {
          "output_type": "stream",
          "text": [
            "Using TensorFlow backend.\n"
          ],
          "name": "stderr"
        }
      ]
    },
    {
      "cell_type": "code",
      "metadata": {
        "id": "4UK0rkrFo6PK",
        "colab_type": "code",
        "colab": {}
      },
      "source": [
        "# Initializing ANN \n",
        "\n",
        "Classifier = Sequential()"
      ],
      "execution_count": 50,
      "outputs": []
    },
    {
      "cell_type": "code",
      "metadata": {
        "id": "DhezNNebo85n",
        "colab_type": "code",
        "colab": {}
      },
      "source": [
        "#  Adding input layer and first hidden layer\n",
        "\n",
        "Classifier.add(Dense(units = 6, kernel_initializer = 'he_uniform',activation='relu',input_dim = 20))\n",
        "\n",
        "# adding second hidden layer\n",
        "\n",
        "Classifier.add(Dense(units = 6, kernel_initializer = 'he_uniform',activation='relu'))\n",
        "\n",
        "# adding the output layer, we use sigmoid activation function coz our target feature is binary classification\n",
        "\n",
        "Classifier.add(Dense(units = 1, kernel_initializer = 'glorot_uniform', activation = 'sigmoid'))"
      ],
      "execution_count": 51,
      "outputs": []
    },
    {
      "cell_type": "code",
      "metadata": {
        "id": "sp0FH9lxo_z_",
        "colab_type": "code",
        "colab": {}
      },
      "source": [
        "# compiling ANN \n",
        "# we use loss function as binary crossentropy coz we have target feature as binary classification \n",
        "\n",
        "Classifier.compile(optimizer = 'Adamax', loss = 'binary_crossentropy', metrics = ['accuracy'])"
      ],
      "execution_count": 52,
      "outputs": []
    },
    {
      "cell_type": "code",
      "metadata": {
        "id": "6mQvYmqIp6ho",
        "colab_type": "code",
        "colab": {
          "base_uri": "https://localhost:8080/",
          "height": 34
        },
        "outputId": "f8721440-498f-4756-c1e6-10bb7aa3bc9b"
      },
      "source": [
        "X.shape"
      ],
      "execution_count": 53,
      "outputs": [
        {
          "output_type": "execute_result",
          "data": {
            "text/plain": [
              "(41188, 20)"
            ]
          },
          "metadata": {
            "tags": []
          },
          "execution_count": 53
        }
      ]
    },
    {
      "cell_type": "code",
      "metadata": {
        "id": "6J0Z8qoepCbS",
        "colab_type": "code",
        "colab": {
          "base_uri": "https://localhost:8080/",
          "height": 1000
        },
        "outputId": "438556c0-2c0c-41c1-d14c-40c8a0b04b46"
      },
      "source": [
        "# fit the ann model in training set\n",
        "\n",
        "model = Classifier.fit(X_train, y_train, validation_split=0.33, batch_size = 10, epochs = 100)\n",
        "# # predict the test set results\n",
        "\n",
        "# y_pred = Classifier.predict(np.array(X_test))\n",
        "# y_pred = (y_pred > 0.5)"
      ],
      "execution_count": 54,
      "outputs": [
        {
          "output_type": "stream",
          "text": [
            "Train on 22076 samples, validate on 10874 samples\n",
            "Epoch 1/100\n",
            "22076/22076 [==============================] - 8s 376us/step - loss: 0.3154 - accuracy: 0.8891 - val_loss: 0.2727 - val_accuracy: 0.8839\n",
            "Epoch 2/100\n",
            "22076/22076 [==============================] - 6s 292us/step - loss: 0.2392 - accuracy: 0.8888 - val_loss: 0.2322 - val_accuracy: 0.8853\n",
            "Epoch 3/100\n",
            "22076/22076 [==============================] - 6s 289us/step - loss: 0.2138 - accuracy: 0.8907 - val_loss: 0.2172 - val_accuracy: 0.8937\n",
            "Epoch 4/100\n",
            "22076/22076 [==============================] - 6s 291us/step - loss: 0.2048 - accuracy: 0.9051 - val_loss: 0.2125 - val_accuracy: 0.9020\n",
            "Epoch 5/100\n",
            "22076/22076 [==============================] - 6s 290us/step - loss: 0.2012 - accuracy: 0.9077 - val_loss: 0.2102 - val_accuracy: 0.9020\n",
            "Epoch 6/100\n",
            "22076/22076 [==============================] - 6s 291us/step - loss: 0.1990 - accuracy: 0.9084 - val_loss: 0.2086 - val_accuracy: 0.9019\n",
            "Epoch 7/100\n",
            "22076/22076 [==============================] - 7s 305us/step - loss: 0.1973 - accuracy: 0.9094 - val_loss: 0.2076 - val_accuracy: 0.9020\n",
            "Epoch 8/100\n",
            "22076/22076 [==============================] - 7s 323us/step - loss: 0.1961 - accuracy: 0.9093 - val_loss: 0.2060 - val_accuracy: 0.9018\n",
            "Epoch 9/100\n",
            "22076/22076 [==============================] - 7s 298us/step - loss: 0.1946 - accuracy: 0.9099 - val_loss: 0.2052 - val_accuracy: 0.9038\n",
            "Epoch 10/100\n",
            "22076/22076 [==============================] - 6s 290us/step - loss: 0.1934 - accuracy: 0.9117 - val_loss: 0.2039 - val_accuracy: 0.9067\n",
            "Epoch 11/100\n",
            "22076/22076 [==============================] - 6s 293us/step - loss: 0.1926 - accuracy: 0.9117 - val_loss: 0.2031 - val_accuracy: 0.9056\n",
            "Epoch 12/100\n",
            "22076/22076 [==============================] - 6s 291us/step - loss: 0.1918 - accuracy: 0.9124 - val_loss: 0.2022 - val_accuracy: 0.9064\n",
            "Epoch 13/100\n",
            "22076/22076 [==============================] - 7s 297us/step - loss: 0.1909 - accuracy: 0.9136 - val_loss: 0.2017 - val_accuracy: 0.9063\n",
            "Epoch 14/100\n",
            "22076/22076 [==============================] - 7s 295us/step - loss: 0.1902 - accuracy: 0.9143 - val_loss: 0.2011 - val_accuracy: 0.9065\n",
            "Epoch 15/100\n",
            "22076/22076 [==============================] - 6s 293us/step - loss: 0.1896 - accuracy: 0.9143 - val_loss: 0.2008 - val_accuracy: 0.9062\n",
            "Epoch 16/100\n",
            "22076/22076 [==============================] - 6s 291us/step - loss: 0.1893 - accuracy: 0.9148 - val_loss: 0.2002 - val_accuracy: 0.9079\n",
            "Epoch 17/100\n",
            "22076/22076 [==============================] - 6s 291us/step - loss: 0.1889 - accuracy: 0.9153 - val_loss: 0.2000 - val_accuracy: 0.9068\n",
            "Epoch 18/100\n",
            "22076/22076 [==============================] - 6s 292us/step - loss: 0.1885 - accuracy: 0.9150 - val_loss: 0.1996 - val_accuracy: 0.9075\n",
            "Epoch 19/100\n",
            "22076/22076 [==============================] - 6s 292us/step - loss: 0.1882 - accuracy: 0.9153 - val_loss: 0.1994 - val_accuracy: 0.9083\n",
            "Epoch 20/100\n",
            "22076/22076 [==============================] - 6s 293us/step - loss: 0.1880 - accuracy: 0.9151 - val_loss: 0.1991 - val_accuracy: 0.9081\n",
            "Epoch 21/100\n",
            "22076/22076 [==============================] - 7s 302us/step - loss: 0.1878 - accuracy: 0.9153 - val_loss: 0.1988 - val_accuracy: 0.9092\n",
            "Epoch 22/100\n",
            "22076/22076 [==============================] - 6s 289us/step - loss: 0.1875 - accuracy: 0.9152 - val_loss: 0.1991 - val_accuracy: 0.9080\n",
            "Epoch 23/100\n",
            "22076/22076 [==============================] - 6s 292us/step - loss: 0.1873 - accuracy: 0.9153 - val_loss: 0.1978 - val_accuracy: 0.9089\n",
            "Epoch 24/100\n",
            "22076/22076 [==============================] - 6s 291us/step - loss: 0.1870 - accuracy: 0.9164 - val_loss: 0.1975 - val_accuracy: 0.9090\n",
            "Epoch 25/100\n",
            "22076/22076 [==============================] - 6s 293us/step - loss: 0.1868 - accuracy: 0.9158 - val_loss: 0.1975 - val_accuracy: 0.9090\n",
            "Epoch 26/100\n",
            "22076/22076 [==============================] - 7s 298us/step - loss: 0.1864 - accuracy: 0.9159 - val_loss: 0.1982 - val_accuracy: 0.9100\n",
            "Epoch 27/100\n",
            "22076/22076 [==============================] - 6s 290us/step - loss: 0.1862 - accuracy: 0.9167 - val_loss: 0.1970 - val_accuracy: 0.9113\n",
            "Epoch 28/100\n",
            "22076/22076 [==============================] - 6s 290us/step - loss: 0.1861 - accuracy: 0.9161 - val_loss: 0.1967 - val_accuracy: 0.9098\n",
            "Epoch 29/100\n",
            "22076/22076 [==============================] - 6s 294us/step - loss: 0.1858 - accuracy: 0.9160 - val_loss: 0.1965 - val_accuracy: 0.9101\n",
            "Epoch 30/100\n",
            "22076/22076 [==============================] - 6s 292us/step - loss: 0.1855 - accuracy: 0.9157 - val_loss: 0.1963 - val_accuracy: 0.9108\n",
            "Epoch 31/100\n",
            "22076/22076 [==============================] - 6s 293us/step - loss: 0.1852 - accuracy: 0.9163 - val_loss: 0.1959 - val_accuracy: 0.9102\n",
            "Epoch 32/100\n",
            "22076/22076 [==============================] - 6s 291us/step - loss: 0.1850 - accuracy: 0.9162 - val_loss: 0.1962 - val_accuracy: 0.9098\n",
            "Epoch 33/100\n",
            "22076/22076 [==============================] - 6s 290us/step - loss: 0.1847 - accuracy: 0.9169 - val_loss: 0.1963 - val_accuracy: 0.9100\n",
            "Epoch 34/100\n",
            "22076/22076 [==============================] - 6s 294us/step - loss: 0.1847 - accuracy: 0.9167 - val_loss: 0.1957 - val_accuracy: 0.9093\n",
            "Epoch 35/100\n",
            "22076/22076 [==============================] - 6s 290us/step - loss: 0.1845 - accuracy: 0.9167 - val_loss: 0.1962 - val_accuracy: 0.9106\n",
            "Epoch 36/100\n",
            "22076/22076 [==============================] - 6s 292us/step - loss: 0.1845 - accuracy: 0.9169 - val_loss: 0.1960 - val_accuracy: 0.9098\n",
            "Epoch 37/100\n",
            "22076/22076 [==============================] - 6s 293us/step - loss: 0.1844 - accuracy: 0.9168 - val_loss: 0.1959 - val_accuracy: 0.9109\n",
            "Epoch 38/100\n",
            "22076/22076 [==============================] - 7s 298us/step - loss: 0.1842 - accuracy: 0.9171 - val_loss: 0.1958 - val_accuracy: 0.9104\n",
            "Epoch 39/100\n",
            "22076/22076 [==============================] - 6s 293us/step - loss: 0.1838 - accuracy: 0.9172 - val_loss: 0.1965 - val_accuracy: 0.9099\n",
            "Epoch 40/100\n",
            "22076/22076 [==============================] - 6s 293us/step - loss: 0.1841 - accuracy: 0.9162 - val_loss: 0.1956 - val_accuracy: 0.9102\n",
            "Epoch 41/100\n",
            "22076/22076 [==============================] - 6s 291us/step - loss: 0.1840 - accuracy: 0.9174 - val_loss: 0.1953 - val_accuracy: 0.9108\n",
            "Epoch 42/100\n",
            "22076/22076 [==============================] - 6s 290us/step - loss: 0.1837 - accuracy: 0.9173 - val_loss: 0.1953 - val_accuracy: 0.9109\n",
            "Epoch 43/100\n",
            "22076/22076 [==============================] - 6s 291us/step - loss: 0.1839 - accuracy: 0.9173 - val_loss: 0.1949 - val_accuracy: 0.9099\n",
            "Epoch 44/100\n",
            "22076/22076 [==============================] - 6s 292us/step - loss: 0.1836 - accuracy: 0.9172 - val_loss: 0.1956 - val_accuracy: 0.9098\n",
            "Epoch 45/100\n",
            "22076/22076 [==============================] - 6s 291us/step - loss: 0.1835 - accuracy: 0.9167 - val_loss: 0.1951 - val_accuracy: 0.9106\n",
            "Epoch 46/100\n",
            "22076/22076 [==============================] - 7s 295us/step - loss: 0.1834 - accuracy: 0.9173 - val_loss: 0.1951 - val_accuracy: 0.9104\n",
            "Epoch 47/100\n",
            "22076/22076 [==============================] - 6s 290us/step - loss: 0.1833 - accuracy: 0.9173 - val_loss: 0.1947 - val_accuracy: 0.9088\n",
            "Epoch 48/100\n",
            "22076/22076 [==============================] - 6s 293us/step - loss: 0.1832 - accuracy: 0.9172 - val_loss: 0.1945 - val_accuracy: 0.9101\n",
            "Epoch 49/100\n",
            "22076/22076 [==============================] - 6s 292us/step - loss: 0.1831 - accuracy: 0.9172 - val_loss: 0.1944 - val_accuracy: 0.9106\n",
            "Epoch 50/100\n",
            "22076/22076 [==============================] - 6s 294us/step - loss: 0.1829 - accuracy: 0.9173 - val_loss: 0.1947 - val_accuracy: 0.9104\n",
            "Epoch 51/100\n",
            "22076/22076 [==============================] - 7s 297us/step - loss: 0.1829 - accuracy: 0.9171 - val_loss: 0.1943 - val_accuracy: 0.9102\n",
            "Epoch 52/100\n",
            "22076/22076 [==============================] - 6s 292us/step - loss: 0.1826 - accuracy: 0.9178 - val_loss: 0.1949 - val_accuracy: 0.9096\n",
            "Epoch 53/100\n",
            "22076/22076 [==============================] - 6s 291us/step - loss: 0.1826 - accuracy: 0.9176 - val_loss: 0.1939 - val_accuracy: 0.9098\n",
            "Epoch 54/100\n",
            "22076/22076 [==============================] - 6s 294us/step - loss: 0.1824 - accuracy: 0.9178 - val_loss: 0.1938 - val_accuracy: 0.9112\n",
            "Epoch 55/100\n",
            "22076/22076 [==============================] - 7s 308us/step - loss: 0.1823 - accuracy: 0.9172 - val_loss: 0.1946 - val_accuracy: 0.9104\n",
            "Epoch 56/100\n",
            "22076/22076 [==============================] - 7s 323us/step - loss: 0.1822 - accuracy: 0.9175 - val_loss: 0.1935 - val_accuracy: 0.9109\n",
            "Epoch 57/100\n",
            "22076/22076 [==============================] - 6s 292us/step - loss: 0.1818 - accuracy: 0.9182 - val_loss: 0.1935 - val_accuracy: 0.9106\n",
            "Epoch 58/100\n",
            "22076/22076 [==============================] - 6s 292us/step - loss: 0.1817 - accuracy: 0.9177 - val_loss: 0.1934 - val_accuracy: 0.9122\n",
            "Epoch 59/100\n",
            "22076/22076 [==============================] - 6s 292us/step - loss: 0.1817 - accuracy: 0.9171 - val_loss: 0.1933 - val_accuracy: 0.9118\n",
            "Epoch 60/100\n",
            "22076/22076 [==============================] - 6s 291us/step - loss: 0.1814 - accuracy: 0.9172 - val_loss: 0.1934 - val_accuracy: 0.9124\n",
            "Epoch 61/100\n",
            "22076/22076 [==============================] - 6s 294us/step - loss: 0.1813 - accuracy: 0.9169 - val_loss: 0.1930 - val_accuracy: 0.9119\n",
            "Epoch 62/100\n",
            "22076/22076 [==============================] - 7s 295us/step - loss: 0.1813 - accuracy: 0.9171 - val_loss: 0.1933 - val_accuracy: 0.9104\n",
            "Epoch 63/100\n",
            "22076/22076 [==============================] - 7s 296us/step - loss: 0.1810 - accuracy: 0.9172 - val_loss: 0.1929 - val_accuracy: 0.9112\n",
            "Epoch 64/100\n",
            "22076/22076 [==============================] - 6s 293us/step - loss: 0.1810 - accuracy: 0.9176 - val_loss: 0.1933 - val_accuracy: 0.9117\n",
            "Epoch 65/100\n",
            "22076/22076 [==============================] - 6s 292us/step - loss: 0.1809 - accuracy: 0.9164 - val_loss: 0.1929 - val_accuracy: 0.9112\n",
            "Epoch 66/100\n",
            "22076/22076 [==============================] - 6s 292us/step - loss: 0.1806 - accuracy: 0.9176 - val_loss: 0.1939 - val_accuracy: 0.9109\n",
            "Epoch 67/100\n",
            "22076/22076 [==============================] - 6s 294us/step - loss: 0.1806 - accuracy: 0.9172 - val_loss: 0.1929 - val_accuracy: 0.9109\n",
            "Epoch 68/100\n",
            "22076/22076 [==============================] - 7s 305us/step - loss: 0.1805 - accuracy: 0.9166 - val_loss: 0.1929 - val_accuracy: 0.9100\n",
            "Epoch 69/100\n",
            "22076/22076 [==============================] - 6s 292us/step - loss: 0.1802 - accuracy: 0.9176 - val_loss: 0.1936 - val_accuracy: 0.9095\n",
            "Epoch 70/100\n",
            "22076/22076 [==============================] - 6s 290us/step - loss: 0.1801 - accuracy: 0.9169 - val_loss: 0.1951 - val_accuracy: 0.9110\n",
            "Epoch 71/100\n",
            "22076/22076 [==============================] - 6s 292us/step - loss: 0.1801 - accuracy: 0.9165 - val_loss: 0.1924 - val_accuracy: 0.9113\n",
            "Epoch 72/100\n",
            "22076/22076 [==============================] - 6s 293us/step - loss: 0.1800 - accuracy: 0.9174 - val_loss: 0.1923 - val_accuracy: 0.9108\n",
            "Epoch 73/100\n",
            "22076/22076 [==============================] - 6s 290us/step - loss: 0.1798 - accuracy: 0.9165 - val_loss: 0.1925 - val_accuracy: 0.9111\n",
            "Epoch 74/100\n",
            "22076/22076 [==============================] - 7s 295us/step - loss: 0.1796 - accuracy: 0.9170 - val_loss: 0.1923 - val_accuracy: 0.9098\n",
            "Epoch 75/100\n",
            "22076/22076 [==============================] - 7s 296us/step - loss: 0.1795 - accuracy: 0.9165 - val_loss: 0.1921 - val_accuracy: 0.9107\n",
            "Epoch 76/100\n",
            "22076/22076 [==============================] - 6s 294us/step - loss: 0.1794 - accuracy: 0.9169 - val_loss: 0.1922 - val_accuracy: 0.9102\n",
            "Epoch 77/100\n",
            "22076/22076 [==============================] - 6s 293us/step - loss: 0.1791 - accuracy: 0.9174 - val_loss: 0.1933 - val_accuracy: 0.9109\n",
            "Epoch 78/100\n",
            "22076/22076 [==============================] - 6s 290us/step - loss: 0.1790 - accuracy: 0.9163 - val_loss: 0.1918 - val_accuracy: 0.9102\n",
            "Epoch 79/100\n",
            "22076/22076 [==============================] - 6s 291us/step - loss: 0.1788 - accuracy: 0.9167 - val_loss: 0.1922 - val_accuracy: 0.9102\n",
            "Epoch 80/100\n",
            "22076/22076 [==============================] - 6s 291us/step - loss: 0.1789 - accuracy: 0.9169 - val_loss: 0.1917 - val_accuracy: 0.9102\n",
            "Epoch 81/100\n",
            "22076/22076 [==============================] - 6s 292us/step - loss: 0.1788 - accuracy: 0.9164 - val_loss: 0.1916 - val_accuracy: 0.9094\n",
            "Epoch 82/100\n",
            "22076/22076 [==============================] - 6s 291us/step - loss: 0.1784 - accuracy: 0.9164 - val_loss: 0.1914 - val_accuracy: 0.9091\n",
            "Epoch 83/100\n",
            "22076/22076 [==============================] - 6s 290us/step - loss: 0.1785 - accuracy: 0.9163 - val_loss: 0.1915 - val_accuracy: 0.9092\n",
            "Epoch 84/100\n",
            "22076/22076 [==============================] - 6s 291us/step - loss: 0.1783 - accuracy: 0.9169 - val_loss: 0.1912 - val_accuracy: 0.9101\n",
            "Epoch 85/100\n",
            "22076/22076 [==============================] - 6s 294us/step - loss: 0.1782 - accuracy: 0.9168 - val_loss: 0.1911 - val_accuracy: 0.9106\n",
            "Epoch 86/100\n",
            "22076/22076 [==============================] - 6s 293us/step - loss: 0.1780 - accuracy: 0.9162 - val_loss: 0.1916 - val_accuracy: 0.9103\n",
            "Epoch 87/100\n",
            "22076/22076 [==============================] - 6s 294us/step - loss: 0.1777 - accuracy: 0.9171 - val_loss: 0.1910 - val_accuracy: 0.9101\n",
            "Epoch 88/100\n",
            "22076/22076 [==============================] - 7s 295us/step - loss: 0.1778 - accuracy: 0.9162 - val_loss: 0.1908 - val_accuracy: 0.9113\n",
            "Epoch 89/100\n",
            "22076/22076 [==============================] - 6s 291us/step - loss: 0.1776 - accuracy: 0.9174 - val_loss: 0.1907 - val_accuracy: 0.9102\n",
            "Epoch 90/100\n",
            "22076/22076 [==============================] - 6s 292us/step - loss: 0.1775 - accuracy: 0.9163 - val_loss: 0.1912 - val_accuracy: 0.9102\n",
            "Epoch 91/100\n",
            "22076/22076 [==============================] - 6s 291us/step - loss: 0.1774 - accuracy: 0.9166 - val_loss: 0.1903 - val_accuracy: 0.9088\n",
            "Epoch 92/100\n",
            "22076/22076 [==============================] - 6s 292us/step - loss: 0.1773 - accuracy: 0.9168 - val_loss: 0.1904 - val_accuracy: 0.9110\n",
            "Epoch 93/100\n",
            "22076/22076 [==============================] - 6s 292us/step - loss: 0.1772 - accuracy: 0.9176 - val_loss: 0.1909 - val_accuracy: 0.9097\n",
            "Epoch 94/100\n",
            "22076/22076 [==============================] - 6s 292us/step - loss: 0.1771 - accuracy: 0.9173 - val_loss: 0.1907 - val_accuracy: 0.9110\n",
            "Epoch 95/100\n",
            "22076/22076 [==============================] - 6s 294us/step - loss: 0.1769 - accuracy: 0.9175 - val_loss: 0.1913 - val_accuracy: 0.9088\n",
            "Epoch 96/100\n",
            "22076/22076 [==============================] - 6s 290us/step - loss: 0.1770 - accuracy: 0.9176 - val_loss: 0.1901 - val_accuracy: 0.9110\n",
            "Epoch 97/100\n",
            "22076/22076 [==============================] - 7s 295us/step - loss: 0.1767 - accuracy: 0.9174 - val_loss: 0.1902 - val_accuracy: 0.9102\n",
            "Epoch 98/100\n",
            "22076/22076 [==============================] - 6s 292us/step - loss: 0.1768 - accuracy: 0.9166 - val_loss: 0.1898 - val_accuracy: 0.9106\n",
            "Epoch 99/100\n",
            "22076/22076 [==============================] - 6s 293us/step - loss: 0.1766 - accuracy: 0.9167 - val_loss: 0.1896 - val_accuracy: 0.9103\n",
            "Epoch 100/100\n",
            "22076/22076 [==============================] - 7s 298us/step - loss: 0.1766 - accuracy: 0.9177 - val_loss: 0.1901 - val_accuracy: 0.9108\n"
          ],
          "name": "stdout"
        }
      ]
    },
    {
      "cell_type": "code",
      "metadata": {
        "id": "J-tzcJSMpE7I",
        "colab_type": "code",
        "colab": {
          "base_uri": "https://localhost:8080/",
          "height": 312
        },
        "outputId": "501239b2-bfeb-4c04-c2c6-32f8c17f202d"
      },
      "source": [
        "print(model.history.keys())\n",
        "# summarize history for accuracy\n",
        "plt.plot(model.history['accuracy'])\n",
        "plt.plot(model.history['val_accuracy'])\n",
        "plt.title('model accuracy')\n",
        "plt.ylabel('accuracy')\n",
        "plt.xlabel('epoch')\n",
        "plt.legend(['train', 'test'], loc='upper left')\n",
        "plt.show()"
      ],
      "execution_count": 55,
      "outputs": [
        {
          "output_type": "stream",
          "text": [
            "dict_keys(['val_loss', 'val_accuracy', 'loss', 'accuracy'])\n"
          ],
          "name": "stdout"
        },
        {
          "output_type": "display_data",
          "data": {
            "image/png": "[encoded data removed]",
            "text/plain": [
              "<Figure size 432x288 with 1 Axes>"
            ]
          },
          "metadata": {
            "tags": [],
            "needs_background": "light"
          }
        }
      ]
    },
    {
      "cell_type": "code",
      "metadata": {
        "id": "oKOuZDPjpJBC",
        "colab_type": "code",
        "colab": {
          "base_uri": "https://localhost:8080/",
          "height": 295
        },
        "outputId": "352d4ba3-149c-444a-a936-fde25505ec93"
      },
      "source": [
        "# summarize history for loss\n",
        "plt.plot(model.history['loss'])\n",
        "plt.plot(model.history['val_loss'])\n",
        "plt.title('model loss')\n",
        "plt.ylabel('loss')\n",
        "plt.xlabel('epoch')\n",
        "plt.legend(['train', 'test'], loc='upper left')\n",
        "plt.show()"
      ],
      "execution_count": 56,
      "outputs": [
        {
          "output_type": "display_data",
          "data": {
            "image/png": "[encoded data removed]",
            "text/plain": [
              "<Figure size 432x288 with 1 Axes>"
            ]
          },
          "metadata": {
            "tags": [],
            "needs_background": "light"
          }
        }
      ]
    },
    {
      "cell_type": "code",
      "metadata": {
        "id": "WQjoTZqfpMFp",
        "colab_type": "code",
        "colab": {}
      },
      "source": [
        "# predict the test set results\n",
        "\n",
        "y_pred = Classifier.predict(X_test)\n",
        "y_pred = (y_pred > 0.5)"
      ],
      "execution_count": 57,
      "outputs": []
    },
    {
      "cell_type": "code",
      "metadata": {
        "id": "yyUEoCBnpQGn",
        "colab_type": "code",
        "colab": {}
      },
      "source": [
        "# confusion matrix\n",
        "from sklearn.metrics import confusion_matrix\n",
        "cm = confusion_matrix(y_test, y_pred)"
      ],
      "execution_count": 58,
      "outputs": []
    },
    {
      "cell_type": "code",
      "metadata": {
        "id": "QYKxyCDipR_-",
        "colab_type": "code",
        "colab": {
          "base_uri": "https://localhost:8080/",
          "height": 50
        },
        "outputId": "c9404a2e-ea28-4a44-b137-2948b5b4abf3"
      },
      "source": [
        "cm"
      ],
      "execution_count": 59,
      "outputs": [
        {
          "output_type": "execute_result",
          "data": {
            "text/plain": [
              "array([[7067,  243],\n",
              "       [ 517,  411]])"
            ]
          },
          "metadata": {
            "tags": []
          },
          "execution_count": 59
        }
      ]
    },
    {
      "cell_type": "code",
      "metadata": {
        "id": "LxEFQ10ypUkf",
        "colab_type": "code",
        "colab": {
          "base_uri": "https://localhost:8080/",
          "height": 34
        },
        "outputId": "e43de554-7e53-49bd-c5f0-cfa0f2b6cb0f"
      },
      "source": [
        "# Calculate the Accuracy\n",
        "from sklearn.metrics import accuracy_score\n",
        "score=accuracy_score(y_pred,y_test)\n",
        "score"
      ],
      "execution_count": 60,
      "outputs": [
        {
          "output_type": "execute_result",
          "data": {
            "text/plain": [
              "0.9077445982034474"
            ]
          },
          "metadata": {
            "tags": []
          },
          "execution_count": 60
        }
      ]
    },
    {
      "cell_type": "code",
      "metadata": {
        "id": "lT1lTzPvpWn8",
        "colab_type": "code",
        "colab": {}
      },
      "source": [
        "# perform hyperparameter optimization\n",
        "\n",
        "from keras.wrappers.scikit_learn import KerasClassifier\n",
        "from sklearn.model_selection import GridSearchCV"
      ],
      "execution_count": 61,
      "outputs": []
    },
    {
      "cell_type": "code",
      "metadata": {
        "id": "3D7_QOOcpZD7",
        "colab_type": "code",
        "colab": {}
      },
      "source": [
        "def create_model(layers, activation):\n",
        "   model = Sequential()\n",
        "   for i, nodes in enumerate(layers):\n",
        "     if i==0:\n",
        "       model.add(Dense(nodes,input_dim=X_train.shape[1]))\n",
        "       model.add(Activation(activation))\n",
        "       model.add(Dropout(0.3))\n",
        "     else:\n",
        "       model.add(Dense(nodes))\n",
        "       model.add(Activation(activation))\n",
        "       model.add(Dropout(0.3))\n",
        "\n",
        "   model.add(Dense(units = 1,  kernel_initializer= 'glorot_uniform', activation = 'sigmoid'))\n",
        "   model.compile(optimizer='adam', loss='binary_crossentropy', metrics=['accuracy'])\n",
        "   return model "
      ],
      "execution_count": 62,
      "outputs": []
    },
    {
      "cell_type": "code",
      "metadata": {
        "id": "jx-7FqZgpbfV",
        "colab_type": "code",
        "colab": {}
      },
      "source": [
        "model = KerasClassifier(build_fn=create_model, verbose=0)"
      ],
      "execution_count": 63,
      "outputs": []
    },
    {
      "cell_type": "code",
      "metadata": {
        "id": "5UlsGqVBpdhX",
        "colab_type": "code",
        "colab": {}
      },
      "source": [
        "layers = [(20,), (40, 20), (45, 30, 15)]\n",
        "activations = ['sigmoid', 'relu']\n",
        "param_grid = dict(layers=layers, activation=activations, batch_size = [128, 256], epochs=[30])\n",
        "grid = GridSearchCV(estimator=model, param_grid=param_grid,cv=5)\n"
      ],
      "execution_count": 64,
      "outputs": []
    },
    {
      "cell_type": "code",
      "metadata": {
        "id": "JKma52_-pfW5",
        "colab_type": "code",
        "colab": {}
      },
      "source": [
        "grid_result = grid.fit(X_train, y_train)"
      ],
      "execution_count": 65,
      "outputs": []
    },
    {
      "cell_type": "code",
      "metadata": {
        "id": "NOXRoJG8phdQ",
        "colab_type": "code",
        "colab": {
          "base_uri": "https://localhost:8080/",
          "height": 50
        },
        "outputId": "2be114a7-da28-49fa-fffe-0f26e136546d"
      },
      "source": [
        "print(grid_result.best_score_)\n",
        "print(grid_result.best_params_)"
      ],
      "execution_count": 66,
      "outputs": [
        {
          "output_type": "stream",
          "text": [
            "0.9148406744003296\n",
            "{'activation': 'relu', 'batch_size': 128, 'epochs': 30, 'layers': (40, 20)}\n"
          ],
          "name": "stdout"
        }
      ]
    }
  ]
}